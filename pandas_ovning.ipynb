{
 "cells": [
  {
   "cell_type": "markdown",
   "metadata": {},
   "source": [
    "Exercise 1: Import Pandas\n",
    "Q1: How do you import the Pandas library in Python?\n"
   ]
  },
  {
   "cell_type": "code",
   "execution_count": null,
   "metadata": {},
   "outputs": [],
   "source": [
    "import pandas as pd"
   ]
  },
  {
   "cell_type": "markdown",
   "metadata": {},
   "source": [
    "Exercise 2: Create a DataFrame\n",
    "Q2: Once you've imported Pandas, how can you create a DataFrame from a Python\n",
    "dictionary?\n"
   ]
  },
  {
   "cell_type": "code",
   "execution_count": 3,
   "metadata": {},
   "outputs": [
    {
     "data": {
      "text/html": [
       "<div>\n",
       "<style scoped>\n",
       "    .dataframe tbody tr th:only-of-type {\n",
       "        vertical-align: middle;\n",
       "    }\n",
       "\n",
       "    .dataframe tbody tr th {\n",
       "        vertical-align: top;\n",
       "    }\n",
       "\n",
       "    .dataframe thead th {\n",
       "        text-align: right;\n",
       "    }\n",
       "</style>\n",
       "<table border=\"1\" class=\"dataframe\">\n",
       "  <thead>\n",
       "    <tr style=\"text-align: right;\">\n",
       "      <th></th>\n",
       "      <th>Name</th>\n",
       "      <th>Age</th>\n",
       "      <th>City</th>\n",
       "    </tr>\n",
       "  </thead>\n",
       "  <tbody>\n",
       "    <tr>\n",
       "      <th>0</th>\n",
       "      <td>Stina</td>\n",
       "      <td>25</td>\n",
       "      <td>Örnsköldsvik</td>\n",
       "    </tr>\n",
       "    <tr>\n",
       "      <th>1</th>\n",
       "      <td>Agnes</td>\n",
       "      <td>34</td>\n",
       "      <td>Umeå</td>\n",
       "    </tr>\n",
       "    <tr>\n",
       "      <th>2</th>\n",
       "      <td>Lisa</td>\n",
       "      <td>23</td>\n",
       "      <td>Göteborg</td>\n",
       "    </tr>\n",
       "    <tr>\n",
       "      <th>3</th>\n",
       "      <td>Pernilla</td>\n",
       "      <td>54</td>\n",
       "      <td>Stockholm</td>\n",
       "    </tr>\n",
       "    <tr>\n",
       "      <th>4</th>\n",
       "      <td>Stefan</td>\n",
       "      <td>64</td>\n",
       "      <td>Malmö</td>\n",
       "    </tr>\n",
       "    <tr>\n",
       "      <th>5</th>\n",
       "      <td>Per</td>\n",
       "      <td>45</td>\n",
       "      <td>Luleå</td>\n",
       "    </tr>\n",
       "  </tbody>\n",
       "</table>\n",
       "</div>"
      ],
      "text/plain": [
       "       Name  Age          City\n",
       "0     Stina   25  Örnsköldsvik\n",
       "1     Agnes   34          Umeå\n",
       "2      Lisa   23      Göteborg\n",
       "3  Pernilla   54     Stockholm\n",
       "4    Stefan   64         Malmö\n",
       "5       Per   45         Luleå"
      ]
     },
     "execution_count": 3,
     "metadata": {},
     "output_type": "execute_result"
    }
   ],
   "source": [
    "import pandas as pd\n",
    "\n",
    "data = {\n",
    "    \n",
    "    \"Name\": [\"Stina\", \"Agnes\", \"Lisa\", \"Pernilla\", \"Stefan\", \"Per\"],\n",
    "    \"Age\":[25, 34, 23, 54, 64, 45],\n",
    "    \"City\":[\"Örnsköldsvik\", \"Umeå\", \"Göteborg\", \"Stockholm\", \"Malmö\", \"Luleå\"]}\n",
    "\n",
    "df = pd.DataFrame(data)\n",
    "df"
   ]
  },
  {
   "cell_type": "markdown",
   "metadata": {},
   "source": [
    "Exercise 3: Read Data from a CSV\n",
    "Q3: How can you use Pandas to read data from a CSV file into a DataFrame?"
   ]
  },
  {
   "cell_type": "code",
   "execution_count": 4,
   "metadata": {},
   "outputs": [
    {
     "data": {
      "text/html": [
       "<div>\n",
       "<style scoped>\n",
       "    .dataframe tbody tr th:only-of-type {\n",
       "        vertical-align: middle;\n",
       "    }\n",
       "\n",
       "    .dataframe tbody tr th {\n",
       "        vertical-align: top;\n",
       "    }\n",
       "\n",
       "    .dataframe thead th {\n",
       "        text-align: right;\n",
       "    }\n",
       "</style>\n",
       "<table border=\"1\" class=\"dataframe\">\n",
       "  <thead>\n",
       "    <tr style=\"text-align: right;\">\n",
       "      <th></th>\n",
       "      <th>adam</th>\n",
       "      <th>AI23</th>\n",
       "      <th>adam@gmail.com</th>\n",
       "    </tr>\n",
       "  </thead>\n",
       "  <tbody>\n",
       "    <tr>\n",
       "      <th>0</th>\n",
       "      <td>kalle</td>\n",
       "      <td>AI23</td>\n",
       "      <td>kalle@gmail.com</td>\n",
       "    </tr>\n",
       "  </tbody>\n",
       "</table>\n",
       "</div>"
      ],
      "text/plain": [
       "    adam   AI23    adam@gmail.com\n",
       "0  kalle   AI23   kalle@gmail.com"
      ]
     },
     "execution_count": 4,
     "metadata": {},
     "output_type": "execute_result"
    }
   ],
   "source": [
    "students = pd.read_csv(\"./Data/students.csv\", header=0)\n",
    "students.head(1)"
   ]
  },
  {
   "cell_type": "markdown",
   "metadata": {},
   "source": [
    "Exercise 4: Selecting Data\n",
    "\n",
    "Let's assume you have a DataFrame named df with columns 'Name', 'Age', and 'City'. Here\n",
    "are some tasks:\n",
    "Select the 'Name' column.\n",
    "Select the first 5 rows of the DataFrame.\n",
    "Select all rows where 'Age' is greater than 25.\n",
    "Select rows where 'City' is 'Gothenburg'.\n"
   ]
  },
  {
   "cell_type": "code",
   "execution_count": 29,
   "metadata": {},
   "outputs": [
    {
     "name": "stdout",
     "output_type": "stream",
     "text": [
      "0       Stina\n",
      "1       Agnes\n",
      "2        Lisa\n",
      "3    Pernilla\n",
      "4      Stefan\n",
      "5         Per\n",
      "Name: Name, dtype: object\n",
      "       Name  Age          City\n",
      "0     Stina   25  Örnsköldsvik\n",
      "1     Agnes   34          Umeå\n",
      "2      Lisa   23      Göteborg\n",
      "3  Pernilla   54     Stockholm\n",
      "4    Stefan   64         Malmö\n",
      "       Name  Age       City\n",
      "1     Agnes   34       Umeå\n",
      "3  Pernilla   54  Stockholm\n",
      "4    Stefan   64      Malmö\n",
      "5       Per   45      Luleå\n",
      "   Name  Age      City\n",
      "2  Lisa   23  Göteborg\n"
     ]
    }
   ],
   "source": [
    "import pandas as pd\n",
    "\n",
    "data = {\n",
    "    \n",
    "    \"Name\": [\"Stina\", \"Agnes\", \"Lisa\", \"Pernilla\", \"Stefan\", \"Per\"],\n",
    "    \"Age\":[25, 34, 23, 54, 64, 45],\n",
    "    \"City\":[\"Örnsköldsvik\", \"Umeå\", \"Göteborg\", \"Stockholm\", \"Malmö\", \"Luleå\"]}\n",
    "\n",
    "df = pd.DataFrame(data)\n",
    "\n",
    "name= df['Name']\n",
    "print(name)\n",
    "\n",
    "rows = df.head(5)\n",
    "print(rows)\n",
    "\n",
    "age_above_25 = df[df['Age'] > 25]\n",
    "print(age_above_25)\n",
    "\n",
    "city_göteborg = df[df['City'] == 'Göteborg']\n",
    "print(city_göteborg)"
   ]
  },
  {
   "cell_type": "code",
   "execution_count": 20,
   "metadata": {},
   "outputs": [
    {
     "data": {
      "text/plain": [
       "<bound method NDFrame.copy of        Name  Age          City\n",
       "0     Stina   25  Örnsköldsvik\n",
       "1     Agnes   34          Umeå\n",
       "2      Lisa   23      Göteborg\n",
       "3  Pernilla   54     Stockholm\n",
       "4    Stefan   64         Malmö\n",
       "5       Per   45         Luleå>"
      ]
     },
     "execution_count": 20,
     "metadata": {},
     "output_type": "execute_result"
    }
   ],
   "source": [
    "df_copy = df.copy()\n",
    "df.copy"
   ]
  },
  {
   "cell_type": "markdown",
   "metadata": {},
   "source": [
    "Exercise 5: Data Filtering and Manipulation\n",
    "Q1: How can you filter the DataFrame to show only rows where 'Age' is less than 30?\n",
    "Q2: How can you sort the DataFrame by the 'Age' column in ascending order?\n",
    "Q3: How do you add a new column 'Salary' with some sample values to the DataFrame?\n"
   ]
  },
  {
   "cell_type": "code",
   "execution_count": 39,
   "metadata": {},
   "outputs": [
    {
     "name": "stdout",
     "output_type": "stream",
     "text": [
      "Filtered DataFrame (Age < 30):\n",
      "     Name  Age          City\n",
      "0  Stina   25  Örnsköldsvik\n",
      "2   Lisa   23      Göteborg\n",
      "Sorted DataFrame (by Age in ascending order):\n",
      "        Name  Age          City\n",
      "2      Lisa   23      Göteborg\n",
      "0     Stina   25  Örnsköldsvik\n",
      "1     Agnes   34          Umeå\n",
      "5       Per   45         Luleå\n",
      "3  Pernilla   54     Stockholm\n",
      "4    Stefan   64         Malmö\n",
      "DataFrame with the 'Salary' column added:\n",
      "        Name  Age          City  Salary\n",
      "0     Stina   25  Örnsköldsvik   50000\n",
      "1     Agnes   34          Umeå   60000\n",
      "2      Lisa   23      Göteborg   55000\n",
      "3  Pernilla   54     Stockholm   70000\n",
      "4    Stefan   64         Malmö   48000\n",
      "5       Per   45         Luleå   55000\n"
     ]
    }
   ],
   "source": [
    "import pandas as pd\n",
    "\n",
    "data = {\n",
    "    \n",
    "    \"Name\": [\"Stina\", \"Agnes\", \"Lisa\", \"Pernilla\", \"Stefan\", \"Per\"],\n",
    "    \"Age\":[25, 34, 23, 54, 64, 45],\n",
    "    \"City\":[\"Örnsköldsvik\", \"Umeå\", \"Göteborg\", \"Stockholm\", \"Malmö\", \"Luleå\"]}\n",
    "\n",
    "df = pd.DataFrame(data)\n",
    "filtered_df = df[df['Age'] < 30]\n",
    "print(\"Filtered DataFrame (Age < 30):\\n\", filtered_df)\n",
    "sorted_df = df.sort_values(by='Age')\n",
    "print(\"Sorted DataFrame (by Age in ascending order):\\n\", sorted_df)\n",
    "df['Salary'] = [50000, 60000, 55000, 70000, 48000, 55000]\n",
    "print(\"DataFrame with the 'Salary' column added:\\n\", df)"
   ]
  },
  {
   "cell_type": "markdown",
   "metadata": {},
   "source": [
    "Exercise 6: Data Aggregation\n",
    "Assume you have a DataFrame with a 'Sales' column. Here are some tasks:\n",
    "Calculate the total sales.\n",
    "Find the average sales.\n",
    "Determine the maximum and minimum sales values.\n",
    "Group the data by a categorical column (e.g., 'Region') and calculate the total sales in each\n",
    "group.\n",
    "Q1: How can you group data by a specific column and calculate summary statistics for each\n",
    "group?"
   ]
  },
  {
   "cell_type": "markdown",
   "metadata": {},
   "source": [
    "Exercise 7: Data Cleaning\n",
    "Assume your DataFrame has missing values. Here are some tasks:\n",
    "Identify and count the missing values in each column.\n",
    "Remove rows with missing values.\n",
    "Fill in missing values with a specific value or the mean of that column.\n",
    "Q2: How can you handle missing data effectively in Pandas?\n"
   ]
  },
  {
   "cell_type": "markdown",
   "metadata": {},
   "source": [
    "Exercise 8: Merging DataFrames\n",
    "If you have two DataFrames, say df1 and df2, with common columns, perform the following\n",
    "tasks:\n",
    "Merge them based on a common column (e.g., 'ID').\n",
    "Perform inner, outer, left, and right joins.\n",
    "Q3: What are the different types of DataFrame merges, and when would you use each?"
   ]
  },
  {
   "cell_type": "markdown",
   "metadata": {},
   "source": [
    "Exercise 9: Time Series Data\n",
    "If you're working with time series data, here are some tasks:\n",
    "Resample the data to a different frequency (e.g., daily to monthly).\n",
    "Calculate moving averages or rolling statistics.\n",
    "Plot a time series.\n",
    "Q1: How can you effectively work with time series data in Pandas?"
   ]
  },
  {
   "cell_type": "markdown",
   "metadata": {},
   "source": [
    "Exercise 10: Advanced Indexing\n",
    "Explore advanced indexing techniques:\n",
    "Set a column as the DataFrame's index.\n",
    "Use MultiIndex for more complex data structures.\n",
    "Slice and select data using loc and iloc."
   ]
  },
  {
   "cell_type": "code",
   "execution_count": 17,
   "metadata": {},
   "outputs": [
    {
     "name": "stdout",
     "output_type": "stream",
     "text": [
      "      Name  Age        City\n",
      "0    Alice   30   Stockholm\n",
      "1      Bob   25  Gothenburg\n",
      "2  Charlie   35  Gothenburg\n",
      "3    David   28       Malmö\n",
      "4      Eve   22  Gothenburg\n",
      "      Name  Age        City\n",
      "0    Alice   30   Stockholm\n",
      "2  Charlie   35  Gothenburg\n",
      "3    David   28       Malmö\n",
      "      Name  Age        City\n",
      "1      Bob   25  Gothenburg\n",
      "2  Charlie   35  Gothenburg\n",
      "4      Eve   22  Gothenburg\n"
     ]
    }
   ],
   "source": [
    "# Importera Pandas\n",
    "import pandas as pd\n",
    "\n",
    "# Skapa en exempel-DataFrame\n",
    "data = {'Name': ['Alice', 'Bob', 'Charlie', 'David', 'Eve'],\n",
    "        'Age': [30, 25, 35, 28, 22],\n",
    "        'City': ['Stockholm', 'Gothenburg', 'Gothenburg', 'Malmö', 'Gothenburg']}\n",
    "\n",
    "df = pd.DataFrame(data)\n",
    "\n",
    "# Uppgift 1: Välj 'Name'-kolumnen\n",
    "name_column = df['Name']\n",
    "\n",
    "# Uppgift 2: Välj de första 5 raderna av DataFrame\n",
    "rows = df.head(5)\n",
    "print(rows)\n",
    "\n",
    "# Uppgift 3: Välj rader där 'Age' är större än 25\n",
    "age_above_25 = df[df['Age'] > 25]\n",
    "\n",
    "# Uppgift 4: Välj rader där 'City' är 'Gothenburg'\n",
    "city_gothenburg = df[df['City'] == 'Gothenburg']\n",
    "\n",
    "\n",
    "print(age_above_25)\n",
    "print(city_gothenburg)"
   ]
  }
 ],
 "metadata": {
  "kernelspec": {
   "display_name": "Dataprocessing-Nedya-Ibrahim-qH-aUhfM",
   "language": "python",
   "name": "python3"
  },
  "language_info": {
   "codemirror_mode": {
    "name": "ipython",
    "version": 3
   },
   "file_extension": ".py",
   "mimetype": "text/x-python",
   "name": "python",
   "nbconvert_exporter": "python",
   "pygments_lexer": "ipython3",
   "version": "3.11.5"
  }
 },
 "nbformat": 4,
 "nbformat_minor": 2
}
