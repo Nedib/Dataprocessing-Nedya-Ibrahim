{
 "cells": [
  {
   "cell_type": "code",
   "execution_count": 7,
   "metadata": {},
   "outputs": [],
   "source": [
    "import pandas as pd"
   ]
  },
  {
   "cell_type": "code",
   "execution_count": 9,
   "metadata": {},
   "outputs": [
    {
     "data": {
      "text/plain": [
       "Index(['Toronto', 'Stockholm', 'Istanbul', 'Chicago'], dtype='object')"
      ]
     },
     "execution_count": 9,
     "metadata": {},
     "output_type": "execute_result"
    }
   ],
   "source": [
    "cities =[\"Toronto\", \"Stockholm\", \"Istanbul\", \"Chicago\" ]\n",
    "populations = [14.85, 2.21, 2.93, 0.53]\n",
    "city_series = pd.Series(populations, index=cities)\n",
    "city_series.index"
   ]
  },
  {
   "cell_type": "code",
   "execution_count": 20,
   "metadata": {},
   "outputs": [
    {
     "data": {
      "text/plain": [
       "Index(['TOR', 'STO', 'IST', 'CHI'], dtype='object')"
      ]
     },
     "execution_count": 20,
     "metadata": {},
     "output_type": "execute_result"
    }
   ],
   "source": [
    "city_series.index = [\"tor\", \"sto\", \"ist\", \"chi\"]\n",
    "city_series.index = city_series.index.str.upper()\n",
    "city_series.index"
   ]
  },
  {
   "cell_type": "code",
   "execution_count": 21,
   "metadata": {},
   "outputs": [
    {
     "data": {
      "text/plain": [
       "Index(['TOR', 'STO', 'IST', 'CHI'], dtype='object')"
      ]
     },
     "execution_count": 21,
     "metadata": {},
     "output_type": "execute_result"
    }
   ],
   "source": [
    "city_series.index = city_series.index.str.upper()\n",
    "city_series.index"
   ]
  },
  {
   "cell_type": "code",
   "execution_count": 23,
   "metadata": {},
   "outputs": [],
   "source": [
    "import numpy as np\n",
    "import pandas as pd"
   ]
  },
  {
   "cell_type": "code",
   "execution_count": 26,
   "metadata": {},
   "outputs": [
    {
     "data": {
      "text/plain": [
       "0    1.0\n",
       "1    3.0\n",
       "2    5.0\n",
       "3    NaN\n",
       "4    6.0\n",
       "5    8.0\n",
       "dtype: float64"
      ]
     },
     "execution_count": 26,
     "metadata": {},
     "output_type": "execute_result"
    }
   ],
   "source": [
    "s = pd.Series([1, 3, 5, np.nan, 6, 8])\n",
    "s\n"
   ]
  },
  {
   "cell_type": "code",
   "execution_count": 27,
   "metadata": {},
   "outputs": [
    {
     "data": {
      "text/plain": [
       "DatetimeIndex(['2023-10-25', '2023-10-26', '2023-10-27', '2023-10-28',\n",
       "               '2023-10-29', '2023-10-30'],\n",
       "              dtype='datetime64[ns]', freq='D')"
      ]
     },
     "execution_count": 27,
     "metadata": {},
     "output_type": "execute_result"
    }
   ],
   "source": [
    "dates = pd.date_range(\"20231025\", periods=6)\n",
    "dates"
   ]
  },
  {
   "cell_type": "code",
   "execution_count": 30,
   "metadata": {},
   "outputs": [
    {
     "data": {
      "text/html": [
       "<div>\n",
       "<style scoped>\n",
       "    .dataframe tbody tr th:only-of-type {\n",
       "        vertical-align: middle;\n",
       "    }\n",
       "\n",
       "    .dataframe tbody tr th {\n",
       "        vertical-align: top;\n",
       "    }\n",
       "\n",
       "    .dataframe thead th {\n",
       "        text-align: right;\n",
       "    }\n",
       "</style>\n",
       "<table border=\"1\" class=\"dataframe\">\n",
       "  <thead>\n",
       "    <tr style=\"text-align: right;\">\n",
       "      <th></th>\n",
       "      <th>A</th>\n",
       "      <th>B</th>\n",
       "      <th>C</th>\n",
       "      <th>D</th>\n",
       "    </tr>\n",
       "  </thead>\n",
       "  <tbody>\n",
       "    <tr>\n",
       "      <th>2023-10-25</th>\n",
       "      <td>-0.002242</td>\n",
       "      <td>-1.299615</td>\n",
       "      <td>0.338642</td>\n",
       "      <td>-1.185788</td>\n",
       "    </tr>\n",
       "    <tr>\n",
       "      <th>2023-10-26</th>\n",
       "      <td>-0.474323</td>\n",
       "      <td>-0.369487</td>\n",
       "      <td>-0.786821</td>\n",
       "      <td>1.897173</td>\n",
       "    </tr>\n",
       "    <tr>\n",
       "      <th>2023-10-27</th>\n",
       "      <td>1.256161</td>\n",
       "      <td>0.005124</td>\n",
       "      <td>-1.574312</td>\n",
       "      <td>2.965914</td>\n",
       "    </tr>\n",
       "    <tr>\n",
       "      <th>2023-10-28</th>\n",
       "      <td>0.000801</td>\n",
       "      <td>-0.310824</td>\n",
       "      <td>-0.631547</td>\n",
       "      <td>-0.217220</td>\n",
       "    </tr>\n",
       "    <tr>\n",
       "      <th>2023-10-29</th>\n",
       "      <td>-1.290158</td>\n",
       "      <td>-0.158735</td>\n",
       "      <td>0.564663</td>\n",
       "      <td>-0.473538</td>\n",
       "    </tr>\n",
       "    <tr>\n",
       "      <th>2023-10-30</th>\n",
       "      <td>0.261899</td>\n",
       "      <td>-1.992256</td>\n",
       "      <td>-1.444738</td>\n",
       "      <td>-1.441616</td>\n",
       "    </tr>\n",
       "  </tbody>\n",
       "</table>\n",
       "</div>"
      ],
      "text/plain": [
       "                   A         B         C         D\n",
       "2023-10-25 -0.002242 -1.299615  0.338642 -1.185788\n",
       "2023-10-26 -0.474323 -0.369487 -0.786821  1.897173\n",
       "2023-10-27  1.256161  0.005124 -1.574312  2.965914\n",
       "2023-10-28  0.000801 -0.310824 -0.631547 -0.217220\n",
       "2023-10-29 -1.290158 -0.158735  0.564663 -0.473538\n",
       "2023-10-30  0.261899 -1.992256 -1.444738 -1.441616"
      ]
     },
     "execution_count": 30,
     "metadata": {},
     "output_type": "execute_result"
    }
   ],
   "source": [
    "df = pd.DataFrame(np.random.randn(6,4), index=dates, columns=list(\"ABCD\"))\n",
    "df"
   ]
  },
  {
   "cell_type": "code",
   "execution_count": 34,
   "metadata": {},
   "outputs": [
    {
     "ename": "TypeError",
     "evalue": "data type 'int34' not understood",
     "output_type": "error",
     "traceback": [
      "\u001b[1;31m---------------------------------------------------------------------------\u001b[0m",
      "\u001b[1;31mTypeError\u001b[0m                                 Traceback (most recent call last)",
      "\u001b[1;32mc:\\Users\\NedyaIbrahim-AI23GBG\\Documents\\Github\\Dataprocessing-Nedya-Ibrahim\\pandatest.ipynb Cell 9\u001b[0m line \u001b[0;36m6\n\u001b[0;32m      <a href='vscode-notebook-cell:/c%3A/Users/NedyaIbrahim-AI23GBG/Documents/Github/Dataprocessing-Nedya-Ibrahim/pandatest.ipynb#X12sZmlsZQ%3D%3D?line=0'>1</a>\u001b[0m df2 \u001b[39m=\u001b[39m pd\u001b[39m.\u001b[39mDataFrame(\n\u001b[0;32m      <a href='vscode-notebook-cell:/c%3A/Users/NedyaIbrahim-AI23GBG/Documents/Github/Dataprocessing-Nedya-Ibrahim/pandatest.ipynb#X12sZmlsZQ%3D%3D?line=1'>2</a>\u001b[0m     {\n\u001b[0;32m      <a href='vscode-notebook-cell:/c%3A/Users/NedyaIbrahim-AI23GBG/Documents/Github/Dataprocessing-Nedya-Ibrahim/pandatest.ipynb#X12sZmlsZQ%3D%3D?line=2'>3</a>\u001b[0m         \u001b[39m\"\u001b[39m\u001b[39mA\u001b[39m\u001b[39m\"\u001b[39m: \u001b[39m1.0\u001b[39m,\n\u001b[0;32m      <a href='vscode-notebook-cell:/c%3A/Users/NedyaIbrahim-AI23GBG/Documents/Github/Dataprocessing-Nedya-Ibrahim/pandatest.ipynb#X12sZmlsZQ%3D%3D?line=3'>4</a>\u001b[0m         \u001b[39m\"\u001b[39m\u001b[39mB\u001b[39m\u001b[39m\"\u001b[39m: pd\u001b[39m.\u001b[39mTimestamp(\u001b[39m\"\u001b[39m\u001b[39m20231025\u001b[39m\u001b[39m\"\u001b[39m),\n\u001b[0;32m      <a href='vscode-notebook-cell:/c%3A/Users/NedyaIbrahim-AI23GBG/Documents/Github/Dataprocessing-Nedya-Ibrahim/pandatest.ipynb#X12sZmlsZQ%3D%3D?line=4'>5</a>\u001b[0m         \u001b[39m\"\u001b[39m\u001b[39mC\u001b[39m\u001b[39m\"\u001b[39m: pd\u001b[39m.\u001b[39mSeries(\u001b[39m1\u001b[39m, index\u001b[39m=\u001b[39m\u001b[39mlist\u001b[39m(\u001b[39mrange\u001b[39m(\u001b[39m4\u001b[39m)), dtype\u001b[39m=\u001b[39m\u001b[39m\"\u001b[39m\u001b[39mfloat32\u001b[39m\u001b[39m\"\u001b[39m),\n\u001b[1;32m----> <a href='vscode-notebook-cell:/c%3A/Users/NedyaIbrahim-AI23GBG/Documents/Github/Dataprocessing-Nedya-Ibrahim/pandatest.ipynb#X12sZmlsZQ%3D%3D?line=5'>6</a>\u001b[0m         \u001b[39m\"\u001b[39m\u001b[39mD\u001b[39m\u001b[39m\"\u001b[39m: np\u001b[39m.\u001b[39;49marray([\u001b[39m3\u001b[39;49m] \u001b[39m*\u001b[39;49m \u001b[39m4\u001b[39;49m, dtype\u001b[39m=\u001b[39;49m\u001b[39m\"\u001b[39;49m\u001b[39mint34\u001b[39;49m\u001b[39m\"\u001b[39;49m),\n\u001b[0;32m      <a href='vscode-notebook-cell:/c%3A/Users/NedyaIbrahim-AI23GBG/Documents/Github/Dataprocessing-Nedya-Ibrahim/pandatest.ipynb#X12sZmlsZQ%3D%3D?line=6'>7</a>\u001b[0m         \u001b[39m\"\u001b[39m\u001b[39mE\u001b[39m\u001b[39m\"\u001b[39m: pd\u001b[39m.\u001b[39mCategorical([\u001b[39m\"\u001b[39m\u001b[39mtest\u001b[39m\u001b[39m\"\u001b[39m, \u001b[39m\"\u001b[39m\u001b[39mtrain\u001b[39m\u001b[39m\"\u001b[39m, \u001b[39m\"\u001b[39m\u001b[39mtest\u001b[39m\u001b[39m\"\u001b[39m, \u001b[39m\"\u001b[39m\u001b[39mtrain\u001b[39m\u001b[39m\"\u001b[39m]),\n\u001b[0;32m      <a href='vscode-notebook-cell:/c%3A/Users/NedyaIbrahim-AI23GBG/Documents/Github/Dataprocessing-Nedya-Ibrahim/pandatest.ipynb#X12sZmlsZQ%3D%3D?line=7'>8</a>\u001b[0m         \u001b[39m\"\u001b[39m\u001b[39mF\u001b[39m\u001b[39m\"\u001b[39m: \u001b[39m\"\u001b[39m\u001b[39mfoo\u001b[39m\u001b[39m\"\u001b[39m,\n\u001b[0;32m      <a href='vscode-notebook-cell:/c%3A/Users/NedyaIbrahim-AI23GBG/Documents/Github/Dataprocessing-Nedya-Ibrahim/pandatest.ipynb#X12sZmlsZQ%3D%3D?line=8'>9</a>\u001b[0m     }\n\u001b[0;32m     <a href='vscode-notebook-cell:/c%3A/Users/NedyaIbrahim-AI23GBG/Documents/Github/Dataprocessing-Nedya-Ibrahim/pandatest.ipynb#X12sZmlsZQ%3D%3D?line=9'>10</a>\u001b[0m )\n\u001b[0;32m     <a href='vscode-notebook-cell:/c%3A/Users/NedyaIbrahim-AI23GBG/Documents/Github/Dataprocessing-Nedya-Ibrahim/pandatest.ipynb#X12sZmlsZQ%3D%3D?line=11'>12</a>\u001b[0m df2\n",
      "\u001b[1;31mTypeError\u001b[0m: data type 'int34' not understood"
     ]
    }
   ],
   "source": [
    "df2 = pd.DataFrame(\n",
    "    {\n",
    "        \"A\": 1.0,\n",
    "        \"B\": pd.Timestamp(\"20231025\"),\n",
    "        \"C\": pd.Series(1, index=list(range(4)), dtype=\"float32\"),\n",
    "        \"D\": np.array([3] * 4, dtype=\"int34\"),\n",
    "        \"E\": pd.Categorical([\"test\", \"train\", \"test\", \"train\"]),\n",
    "        \"F\": \"foo\",\n",
    "    }\n",
    ")\n",
    "\n",
    "df2"
   ]
  }
 ],
 "metadata": {
  "kernelspec": {
   "display_name": "Dataprocessing-Nedya-Ibrahim-qH-aUhfM",
   "language": "python",
   "name": "python3"
  },
  "language_info": {
   "codemirror_mode": {
    "name": "ipython",
    "version": 3
   },
   "file_extension": ".py",
   "mimetype": "text/x-python",
   "name": "python",
   "nbconvert_exporter": "python",
   "pygments_lexer": "ipython3",
   "version": "3.11.5"
  }
 },
 "nbformat": 4,
 "nbformat_minor": 2
}
