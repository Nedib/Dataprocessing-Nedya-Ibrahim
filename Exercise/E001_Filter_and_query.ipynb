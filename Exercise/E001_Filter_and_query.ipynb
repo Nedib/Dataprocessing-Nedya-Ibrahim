{
 "cells": [
  {
   "cell_type": "markdown",
   "metadata": {},
   "source": [
    "## Exercises: Filter and query data"
   ]
  },
  {
   "cell_type": "code",
   "execution_count": 4,
   "metadata": {},
   "outputs": [
    {
     "data": {
      "text/html": [
       "<div>\n",
       "<style scoped>\n",
       "    .dataframe tbody tr th:only-of-type {\n",
       "        vertical-align: middle;\n",
       "    }\n",
       "\n",
       "    .dataframe tbody tr th {\n",
       "        vertical-align: top;\n",
       "    }\n",
       "\n",
       "    .dataframe thead th {\n",
       "        text-align: right;\n",
       "    }\n",
       "</style>\n",
       "<table border=\"1\" class=\"dataframe\">\n",
       "  <thead>\n",
       "    <tr style=\"text-align: right;\">\n",
       "      <th></th>\n",
       "      <th>aspiration</th>\n",
       "      <th>body-style</th>\n",
       "      <th>bore</th>\n",
       "      <th>city-mpg</th>\n",
       "      <th>compression-ratio</th>\n",
       "      <th>curb-weight</th>\n",
       "      <th>drive-wheels</th>\n",
       "      <th>engine-location</th>\n",
       "      <th>engine-size</th>\n",
       "      <th>engine-type</th>\n",
       "      <th>...</th>\n",
       "      <th>make</th>\n",
       "      <th>normalized-losses</th>\n",
       "      <th>num-of-cylinders</th>\n",
       "      <th>num-of-doors</th>\n",
       "      <th>peak-rpm</th>\n",
       "      <th>price</th>\n",
       "      <th>stroke</th>\n",
       "      <th>symboling</th>\n",
       "      <th>wheel-base</th>\n",
       "      <th>width</th>\n",
       "    </tr>\n",
       "  </thead>\n",
       "  <tbody>\n",
       "    <tr>\n",
       "      <th>0</th>\n",
       "      <td>std</td>\n",
       "      <td>convertible</td>\n",
       "      <td>3.47</td>\n",
       "      <td>21</td>\n",
       "      <td>9.0</td>\n",
       "      <td>2548</td>\n",
       "      <td>rwd</td>\n",
       "      <td>front</td>\n",
       "      <td>130</td>\n",
       "      <td>dohc</td>\n",
       "      <td>...</td>\n",
       "      <td>alfa-romero</td>\n",
       "      <td>NaN</td>\n",
       "      <td>four</td>\n",
       "      <td>two</td>\n",
       "      <td>5000.0</td>\n",
       "      <td>13495.0</td>\n",
       "      <td>2.68</td>\n",
       "      <td>3</td>\n",
       "      <td>88.6</td>\n",
       "      <td>64.1</td>\n",
       "    </tr>\n",
       "    <tr>\n",
       "      <th>1</th>\n",
       "      <td>std</td>\n",
       "      <td>convertible</td>\n",
       "      <td>3.47</td>\n",
       "      <td>21</td>\n",
       "      <td>9.0</td>\n",
       "      <td>2548</td>\n",
       "      <td>rwd</td>\n",
       "      <td>front</td>\n",
       "      <td>130</td>\n",
       "      <td>dohc</td>\n",
       "      <td>...</td>\n",
       "      <td>alfa-romero</td>\n",
       "      <td>NaN</td>\n",
       "      <td>four</td>\n",
       "      <td>two</td>\n",
       "      <td>5000.0</td>\n",
       "      <td>16500.0</td>\n",
       "      <td>2.68</td>\n",
       "      <td>3</td>\n",
       "      <td>88.6</td>\n",
       "      <td>64.1</td>\n",
       "    </tr>\n",
       "    <tr>\n",
       "      <th>2</th>\n",
       "      <td>std</td>\n",
       "      <td>hatchback</td>\n",
       "      <td>2.68</td>\n",
       "      <td>19</td>\n",
       "      <td>9.0</td>\n",
       "      <td>2823</td>\n",
       "      <td>rwd</td>\n",
       "      <td>front</td>\n",
       "      <td>152</td>\n",
       "      <td>ohcv</td>\n",
       "      <td>...</td>\n",
       "      <td>alfa-romero</td>\n",
       "      <td>NaN</td>\n",
       "      <td>six</td>\n",
       "      <td>two</td>\n",
       "      <td>5000.0</td>\n",
       "      <td>16500.0</td>\n",
       "      <td>3.47</td>\n",
       "      <td>1</td>\n",
       "      <td>94.5</td>\n",
       "      <td>65.5</td>\n",
       "    </tr>\n",
       "    <tr>\n",
       "      <th>3</th>\n",
       "      <td>std</td>\n",
       "      <td>sedan</td>\n",
       "      <td>3.19</td>\n",
       "      <td>24</td>\n",
       "      <td>10.0</td>\n",
       "      <td>2337</td>\n",
       "      <td>fwd</td>\n",
       "      <td>front</td>\n",
       "      <td>109</td>\n",
       "      <td>ohc</td>\n",
       "      <td>...</td>\n",
       "      <td>audi</td>\n",
       "      <td>164.0</td>\n",
       "      <td>four</td>\n",
       "      <td>four</td>\n",
       "      <td>5500.0</td>\n",
       "      <td>13950.0</td>\n",
       "      <td>3.40</td>\n",
       "      <td>2</td>\n",
       "      <td>99.8</td>\n",
       "      <td>66.2</td>\n",
       "    </tr>\n",
       "    <tr>\n",
       "      <th>4</th>\n",
       "      <td>std</td>\n",
       "      <td>sedan</td>\n",
       "      <td>3.19</td>\n",
       "      <td>18</td>\n",
       "      <td>8.0</td>\n",
       "      <td>2824</td>\n",
       "      <td>4wd</td>\n",
       "      <td>front</td>\n",
       "      <td>136</td>\n",
       "      <td>ohc</td>\n",
       "      <td>...</td>\n",
       "      <td>audi</td>\n",
       "      <td>164.0</td>\n",
       "      <td>five</td>\n",
       "      <td>four</td>\n",
       "      <td>5500.0</td>\n",
       "      <td>17450.0</td>\n",
       "      <td>3.40</td>\n",
       "      <td>2</td>\n",
       "      <td>99.4</td>\n",
       "      <td>66.4</td>\n",
       "    </tr>\n",
       "  </tbody>\n",
       "</table>\n",
       "<p>5 rows × 26 columns</p>\n",
       "</div>"
      ],
      "text/plain": [
       "  aspiration   body-style  bore  city-mpg  compression-ratio  curb-weight  \\\n",
       "0        std  convertible  3.47        21                9.0         2548   \n",
       "1        std  convertible  3.47        21                9.0         2548   \n",
       "2        std    hatchback  2.68        19                9.0         2823   \n",
       "3        std        sedan  3.19        24               10.0         2337   \n",
       "4        std        sedan  3.19        18                8.0         2824   \n",
       "\n",
       "  drive-wheels engine-location  engine-size engine-type  ...         make  \\\n",
       "0          rwd           front          130        dohc  ...  alfa-romero   \n",
       "1          rwd           front          130        dohc  ...  alfa-romero   \n",
       "2          rwd           front          152        ohcv  ...  alfa-romero   \n",
       "3          fwd           front          109         ohc  ...         audi   \n",
       "4          4wd           front          136         ohc  ...         audi   \n",
       "\n",
       "  normalized-losses  num-of-cylinders  num-of-doors  peak-rpm    price stroke  \\\n",
       "0               NaN              four           two    5000.0  13495.0   2.68   \n",
       "1               NaN              four           two    5000.0  16500.0   2.68   \n",
       "2               NaN               six           two    5000.0  16500.0   3.47   \n",
       "3             164.0              four          four    5500.0  13950.0   3.40   \n",
       "4             164.0              five          four    5500.0  17450.0   3.40   \n",
       "\n",
       "   symboling wheel-base width  \n",
       "0          3       88.6  64.1  \n",
       "1          3       88.6  64.1  \n",
       "2          1       94.5  65.5  \n",
       "3          2       99.8  66.2  \n",
       "4          2       99.4  66.4  \n",
       "\n",
       "[5 rows x 26 columns]"
      ]
     },
     "execution_count": 4,
     "metadata": {},
     "output_type": "execute_result"
    }
   ],
   "source": [
    "import pandas as pd\n",
    "autos = pd.read_json(\"../Data/autos.json\")\n",
    "autos.head()"
   ]
  },
  {
   "cell_type": "markdown",
   "metadata": {},
   "source": [
    "**Use the \"autos\" dataset to answer the following questions:**"
   ]
  },
  {
   "cell_type": "markdown",
   "metadata": {},
   "source": [
    "**Q1:** How many cars from Jaguar are in the dataset, and what is the price of the most expensive one?\n",
    "\n",
    "<details>\n",
    "<summary>Answer</summary>\n",
    "<br>\n",
    "&nbsp;&nbsp;&nbsp;count=3\n",
    "&nbsp;&nbsp;&nbsp;price=36000.0\n",
    "</details>"
   ]
  },
  {
   "cell_type": "code",
   "execution_count": 15,
   "metadata": {},
   "outputs": [
    {
     "name": "stdout",
     "output_type": "stream",
     "text": [
      "   aspiration body-style  bore  city-mpg  compression-ratio  curb-weight  \\\n",
      "47        std      sedan  3.63        15                8.1         4066   \n",
      "48        std      sedan  3.63        15                8.1         4066   \n",
      "49        std      sedan  3.54        13               11.5         3950   \n",
      "\n",
      "   drive-wheels engine-location  engine-size engine-type  ...    make  \\\n",
      "47          rwd           front          258        dohc  ...  jaguar   \n",
      "48          rwd           front          258        dohc  ...  jaguar   \n",
      "49          rwd           front          326        ohcv  ...  jaguar   \n",
      "\n",
      "   normalized-losses  num-of-cylinders  num-of-doors  peak-rpm    price  \\\n",
      "47             145.0               six          four    4750.0  32250.0   \n",
      "48               NaN               six          four    4750.0  35550.0   \n",
      "49               NaN            twelve           two    5000.0  36000.0   \n",
      "\n",
      "   stroke  symboling wheel-base width  \n",
      "47   4.17          0      113.0  69.6  \n",
      "48   4.17          0      113.0  69.6  \n",
      "49   2.76          0      102.0  70.6  \n",
      "\n",
      "[3 rows x 26 columns]\n",
      "Number of Jaguar cars in the dataset: 3\n",
      "36000.0\n"
     ]
    }
   ],
   "source": [
    "jaguar_cars = autos[autos[\"make\"] == \"jaguar\"]\n",
    "num_jaguar_cars = len(jaguar_cars)\n",
    "most_expensive_jaguar = jaguar_cars [\"price\"]. max()\n",
    "\n",
    "print(jaguar_cars)\n",
    "print(\"Number of Jaguar cars in the dataset:\", num_jaguar_cars)\n",
    "print(most_expensive_jaguar)"
   ]
  },
  {
   "cell_type": "markdown",
   "metadata": {},
   "source": [
    "**Q2:** How many cars from Toyota are in the dataset, and what is the price of the most expensive one?\n",
    "\n",
    "<details>\n",
    "<summary>Answer</summary>\n",
    "<br>\n",
    "&nbsp;&nbsp;&nbsp;count=32\n",
    "&nbsp;&nbsp;&nbsp;price=17669.0\n",
    "</details>"
   ]
  },
  {
   "cell_type": "code",
   "execution_count": 5,
   "metadata": {},
   "outputs": [
    {
     "name": "stdout",
     "output_type": "stream",
     "text": [
      "    aspiration   body-style  bore  city-mpg  compression-ratio  curb-weight  \\\n",
      "150        std    hatchback  3.05        35                9.0         1985   \n",
      "151        std    hatchback  3.05        31                9.0         2040   \n",
      "152        std    hatchback  3.05        31                9.0         2015   \n",
      "153        std        wagon  3.05        31                9.0         2280   \n",
      "154        std        wagon  3.05        27                9.0         2290   \n",
      "155        std        wagon  3.05        27                9.0         3110   \n",
      "156        std        sedan  3.19        30                9.0         2081   \n",
      "157        std    hatchback  3.19        30                9.0         2109   \n",
      "158        std        sedan  3.27        34               22.5         2275   \n",
      "159        std    hatchback  3.27        38               22.5         2275   \n",
      "160        std        sedan  3.19        38                9.0         2094   \n",
      "161        std    hatchback  3.19        28                9.0         2122   \n",
      "162        std        sedan  3.19        28                9.0         2140   \n",
      "163        std        sedan  3.19        29                9.0         2169   \n",
      "164        std    hatchback  3.19        29                9.0         2204   \n",
      "165        std        sedan  3.24        26                9.4         2265   \n",
      "166        std    hatchback  3.24        26                9.4         2300   \n",
      "167        std      hardtop  3.62        24                9.3         2540   \n",
      "168        std      hardtop  3.62        24                9.3         2536   \n",
      "169        std    hatchback  3.62        24                9.3         2551   \n",
      "170        std      hardtop  3.62        24                9.3         2679   \n",
      "171        std    hatchback  3.62        24                9.3         2714   \n",
      "172        std  convertible  3.62        24                9.3         2975   \n",
      "173        std        sedan  3.31        29                8.7         2326   \n",
      "174      turbo        sedan  3.27        30               22.5         2480   \n",
      "175        std    hatchback  3.31        27                8.7         2414   \n",
      "176        std        sedan  3.31        27                8.7         2414   \n",
      "177        std    hatchback  3.31        27                8.7         2458   \n",
      "178        std    hatchback  3.27        20                9.3         2976   \n",
      "179        std    hatchback  3.27        19                9.3         3016   \n",
      "180        std        sedan  3.27        20                9.2         3131   \n",
      "181        std        wagon  3.27        19                9.2         3151   \n",
      "\n",
      "    drive-wheels engine-location  engine-size engine-type  ...    make  \\\n",
      "150          fwd           front           92         ohc  ...  toyota   \n",
      "151          fwd           front           92         ohc  ...  toyota   \n",
      "152          fwd           front           92         ohc  ...  toyota   \n",
      "153          fwd           front           92         ohc  ...  toyota   \n",
      "154          4wd           front           92         ohc  ...  toyota   \n",
      "155          4wd           front           92         ohc  ...  toyota   \n",
      "156          fwd           front           98         ohc  ...  toyota   \n",
      "157          fwd           front           98         ohc  ...  toyota   \n",
      "158          fwd           front          110         ohc  ...  toyota   \n",
      "159          fwd           front          110         ohc  ...  toyota   \n",
      "160          fwd           front           98         ohc  ...  toyota   \n",
      "161          fwd           front           98         ohc  ...  toyota   \n",
      "162          fwd           front           98         ohc  ...  toyota   \n",
      "163          rwd           front           98         ohc  ...  toyota   \n",
      "164          rwd           front           98         ohc  ...  toyota   \n",
      "165          rwd           front           98        dohc  ...  toyota   \n",
      "166          rwd           front           98        dohc  ...  toyota   \n",
      "167          rwd           front          146         ohc  ...  toyota   \n",
      "168          rwd           front          146         ohc  ...  toyota   \n",
      "169          rwd           front          146         ohc  ...  toyota   \n",
      "170          rwd           front          146         ohc  ...  toyota   \n",
      "171          rwd           front          146         ohc  ...  toyota   \n",
      "172          rwd           front          146         ohc  ...  toyota   \n",
      "173          fwd           front          122         ohc  ...  toyota   \n",
      "174          fwd           front          110         ohc  ...  toyota   \n",
      "175          fwd           front          122         ohc  ...  toyota   \n",
      "176          fwd           front          122         ohc  ...  toyota   \n",
      "177          fwd           front          122         ohc  ...  toyota   \n",
      "178          rwd           front          171        dohc  ...  toyota   \n",
      "179          rwd           front          171        dohc  ...  toyota   \n",
      "180          rwd           front          171        dohc  ...  toyota   \n",
      "181          rwd           front          161        dohc  ...  toyota   \n",
      "\n",
      "    normalized-losses  num-of-cylinders  num-of-doors  peak-rpm    price  \\\n",
      "150              87.0              four           two    4800.0   5348.0   \n",
      "151              87.0              four           two    4800.0   6338.0   \n",
      "152              74.0              four          four    4800.0   6488.0   \n",
      "153              77.0              four          four    4800.0   6918.0   \n",
      "154              81.0              four          four    4800.0   7898.0   \n",
      "155              91.0              four          four    4800.0   8778.0   \n",
      "156              91.0              four          four    4800.0   6938.0   \n",
      "157              91.0              four          four    4800.0   7198.0   \n",
      "158              91.0              four          four    4500.0   7898.0   \n",
      "159              91.0              four          four    4500.0   7788.0   \n",
      "160              91.0              four          four    4800.0   7738.0   \n",
      "161              91.0              four          four    4800.0   8358.0   \n",
      "162              91.0              four          four    4800.0   9258.0   \n",
      "163             168.0              four           two    4800.0   8058.0   \n",
      "164             168.0              four           two    4800.0   8238.0   \n",
      "165             168.0              four           two    6600.0   9298.0   \n",
      "166             168.0              four           two    6600.0   9538.0   \n",
      "167             134.0              four           two    4800.0   8449.0   \n",
      "168             134.0              four           two    4800.0   9639.0   \n",
      "169             134.0              four           two    4800.0   9989.0   \n",
      "170             134.0              four           two    4800.0  11199.0   \n",
      "171             134.0              four           two    4800.0  11549.0   \n",
      "172             134.0              four           two    4800.0  17669.0   \n",
      "173              65.0              four          four    4200.0   8948.0   \n",
      "174              65.0              four          four    4500.0  10698.0   \n",
      "175              65.0              four          four    4200.0   9988.0   \n",
      "176              65.0              four          four    4200.0  10898.0   \n",
      "177              65.0              four          four    4200.0  11248.0   \n",
      "178             197.0               six           two    5200.0  16558.0   \n",
      "179             197.0               six           two    5200.0  15998.0   \n",
      "180              90.0               six          four    5200.0  15690.0   \n",
      "181               NaN               six          four    5200.0  15750.0   \n",
      "\n",
      "    stroke  symboling wheel-base width  \n",
      "150   3.03          1       95.7  63.6  \n",
      "151   3.03          1       95.7  63.6  \n",
      "152   3.03          1       95.7  63.6  \n",
      "153   3.03          0       95.7  63.6  \n",
      "154   3.03          0       95.7  63.6  \n",
      "155   3.03          0       95.7  63.6  \n",
      "156   3.03          0       95.7  64.4  \n",
      "157   3.03          0       95.7  64.4  \n",
      "158   3.35          0       95.7  64.4  \n",
      "159   3.35          0       95.7  64.4  \n",
      "160   3.03          0       95.7  64.4  \n",
      "161   3.03          0       95.7  64.4  \n",
      "162   3.03          0       95.7  64.4  \n",
      "163   3.03          1       94.5  64.0  \n",
      "164   3.03          1       94.5  64.0  \n",
      "165   3.08          1       94.5  64.0  \n",
      "166   3.08          1       94.5  64.0  \n",
      "167   3.50          2       98.4  65.6  \n",
      "168   3.50          2       98.4  65.6  \n",
      "169   3.50          2       98.4  65.6  \n",
      "170   3.50          2       98.4  65.6  \n",
      "171   3.50          2       98.4  65.6  \n",
      "172   3.50          2       98.4  65.6  \n",
      "173   3.54         -1      102.4  66.5  \n",
      "174   3.35         -1      102.4  66.5  \n",
      "175   3.54         -1      102.4  66.5  \n",
      "176   3.54         -1      102.4  66.5  \n",
      "177   3.54         -1      102.4  66.5  \n",
      "178   3.35          3      102.9  67.7  \n",
      "179   3.35          3      102.9  67.7  \n",
      "180   3.35         -1      104.5  66.5  \n",
      "181   3.35         -1      104.5  66.5  \n",
      "\n",
      "[32 rows x 26 columns]\n",
      "Number of Toyota 32\n",
      "17669.0\n"
     ]
    }
   ],
   "source": [
    "Toyota_cars = autos[autos[\"make\"] == \"toyota\"]\n",
    "num_toyota_cars = len (Toyota_cars)\n",
    "most_expensive_Toyota = Toyota_cars[\"price\"].max()\n",
    "\n",
    "print(Toyota_cars)\n",
    "print(\"Number of Toyota\", num_toyota_cars)\n",
    "print(most_expensive_Toyota)"
   ]
  },
  {
   "cell_type": "markdown",
   "metadata": {},
   "source": [
    "**Q3:** What is the length, width and height of the most expensive car in the entire dataset?\n",
    "\n",
    "<details>\n",
    "<summary>Answer</summary>\n",
    "<br>&nbsp;&nbsp;&nbsp;length=199.2\n",
    "&nbsp;&nbsp;&nbsp;width=72.0\n",
    "&nbsp;&nbsp;&nbsp;height=55.4\n",
    "</details>"
   ]
  },
  {
   "cell_type": "code",
   "execution_count": 6,
   "metadata": {},
   "outputs": [
    {
     "name": "stdout",
     "output_type": "stream",
     "text": [
      "74    45400.0\n",
      "Name: price, dtype: float64\n",
      "Length of the most expensive car: 199.2\n",
      "Width of the most expensive car: 72.0\n",
      "Height of the most expensive car: 55.4\n"
     ]
    }
   ],
   "source": [
    "most_expensive_car = autos[autos[\"price\"]== autos[\"price\"].max()]\n",
    "print(most_expensive_car[\"price\"])\n",
    "\n",
    "lenght_of_most_expensive = most_expensive_car[\"length\"]. values[0]\n",
    "width_of_most_expensive = most_expensive_car[\"width\"]. values[0]\n",
    "height_of_most_expensive = most_expensive_car[\"height\"]. values[0]\n",
    "\n",
    "print(\"Length of the most expensive car:\", lenght_of_most_expensive)\n",
    "print(\"Width of the most expensive car:\", width_of_most_expensive)\n",
    "print(\"Height of the most expensive car:\", height_of_most_expensive)"
   ]
  },
  {
   "cell_type": "markdown",
   "metadata": {},
   "source": [
    "**Q4:** What is the lowest price per horsepower in the dataset, and what brand (\"make\") is that car?\n",
    "\n",
    "<details>\n",
    "<summary>Answer</summary>\n",
    "<br>\n",
    "&nbsp;&nbsp;&nbsp;price per horsepower=72.84\n",
    "&nbsp;&nbsp;&nbsp;brand=Toyota\n",
    "</details>"
   ]
  },
  {
   "cell_type": "code",
   "execution_count": 10,
   "metadata": {},
   "outputs": [
    {
     "name": "stdout",
     "output_type": "stream",
     "text": [
      "Brand of the car with the lowets price per horsepower: toyota\n",
      "Lowest price per horsepower: 72.83620689655173\n"
     ]
    }
   ],
   "source": [
    "autos[\"price_per_horsepower\"] = autos[\"price\"] / autos [\"horsepower\"]\n",
    "\n",
    "lowest_price_per_hp_car = autos[autos[\"price_per_horsepower\"] == autos[\"price_per_horsepower\"].min()]\n",
    "brand_of_lowest_price_per_hp = lowest_price_per_hp_car[\"make\"].values[0]\n",
    "lowest_price_per_hp_value = lowest_price_per_hp_car[\"price_per_horsepower\"].values[0]\n",
    "\n",
    "print(\"Brand of the car with the lowets price per horsepower:\", brand_of_lowest_price_per_hp)\n",
    "print(\"Lowest price per horsepower:\", lowest_price_per_hp_value)"
   ]
  },
  {
   "cell_type": "markdown",
   "metadata": {},
   "source": [
    "**Q5:** How many of the cars in the dataset has as many cylinders as they have doors?\n",
    "\n",
    "<details>\n",
    "<summary>Answer</summary>\n",
    "<br>\n",
    "&nbsp;&nbsp;&nbsp;cars=95\n",
    "</details>"
   ]
  },
  {
   "cell_type": "code",
   "execution_count": 13,
   "metadata": {},
   "outputs": [
    {
     "name": "stdout",
     "output_type": "stream",
     "text": [
      "Number of cars with as many cylinders as doors:  95\n"
     ]
    }
   ],
   "source": [
    "same_cylinder_and_doors = autos[autos[\"num-of-cylinders\"] == autos[\"num-of-doors\"]]\n",
    "count_same_cylinder_and_doors = len(same_cylinder_and_doors)\n",
    "print(\"Number of cars with as many cylinders as doors: \", count_same_cylinder_and_doors)"
   ]
  },
  {
   "cell_type": "markdown",
   "metadata": {},
   "source": [
    "**Use the \"autos\" dataset and write python code to solve the following tasks:**"
   ]
  },
  {
   "cell_type": "markdown",
   "metadata": {},
   "source": [
    "**T1:** Print a string to inform the user of the price difference between the cheapest and the most expensive car in the dataset.\n",
    "\n",
    "<details>\n",
    "<summary>Solution</summary>\n",
    "<br>\n",
    "&nbsp;&nbsp;&nbsp;<b>Example:</b><br>\n",
    "&nbsp;&nbsp;&nbsp;The price difference between the cheapest and the most expensive car is 40282.0\n",
    "</details>"
   ]
  },
  {
   "cell_type": "code",
   "execution_count": 14,
   "metadata": {},
   "outputs": [
    {
     "name": "stdout",
     "output_type": "stream",
     "text": [
      "The price difference between the cheapest car and the most expensive car is $40282.00\n"
     ]
    }
   ],
   "source": [
    "cheapest_car = autos.loc[autos[\"price\"].idxmin()]\n",
    "most_expensive_car = autos.loc[autos[\"price\"].idxmax()]\n",
    "\n",
    "price_difference = most_expensive_car[\"price\"] - cheapest_car[\"price\"]\n",
    "\n",
    "print(f\"The price difference between the cheapest car and the most expensive car is ${price_difference:.2f}\")"
   ]
  },
  {
   "cell_type": "markdown",
   "metadata": {},
   "source": [
    "**T2:** Ask the user to input a brand, then print the price range for that brand.\n",
    "\n",
    "<details>\n",
    "<summary>Solution</summary>\n",
    "<br>\n",
    "&nbsp;&nbsp;&nbsp;<b>Example 1:</b><br>\n",
    "&nbsp;&nbsp;&nbsp;Input the name of a brand: volvo<br>\n",
    "&nbsp;&nbsp;&nbsp;The prices for cars of brand 'volvo' ranges from 12940.0 to 22625.0<br>\n",
    "<br>\n",
    "&nbsp;&nbsp;&nbsp;<b>Example 2:</b><br>\n",
    "&nbsp;&nbsp;&nbsp;Input the name of a brand: toyota<br>\n",
    "&nbsp;&nbsp;&nbsp;The prices for cars of brand 'toyota' ranges from 5348.0 to 17669.0<br>\n",
    "<br>\n",
    "&nbsp;&nbsp;&nbsp;<b>Example 3:</b><br>\n",
    "&nbsp;&nbsp;&nbsp;Input the name of a brand: tesla<br>\n",
    "&nbsp;&nbsp;&nbsp;The brand 'tesla' does not exists in the dataset.<br>\n",
    "</details>"
   ]
  },
  {
   "cell_type": "code",
   "execution_count": 21,
   "metadata": {},
   "outputs": [
    {
     "name": "stdout",
     "output_type": "stream",
     "text": [
      "No cars found for the brand: BMW\n"
     ]
    }
   ],
   "source": [
    "brand = input(\"Enter a brans: \")\n",
    "\n",
    "brand_cars = autos[autos[\"make\"] == brand]\n",
    "\n",
    "if not brand_cars.empty:\n",
    "    min_price = brand_cars[\"price\"].min()\n",
    "    max_price = brand_cars[\"price\"].max()\n",
    "    \n",
    "    print(f\"Price range for {brand}: ${min_price:.2f} - ${max_price:.2f}\")\n",
    "else:\n",
    "    print(f\"No cars found for the brand: {brand}\")"
   ]
  },
  {
   "cell_type": "markdown",
   "metadata": {},
   "source": [
    "**T3:** Ask the user to input a brand, then print the number of cars in the dataset for that brand, and all attributes for a random sample car of that brand.\n",
    "<details>\n",
    "<summary>Solution</summary>\n",
    "<br>\n",
    "&nbsp;&nbsp;&nbsp;<b>Example:</b><br>\n",
    "&nbsp;&nbsp;&nbsp;Input the name of a brand: mazda<br>\n",
    "&nbsp;&nbsp;&nbsp;There are 17 cars of brand 'mazda' in the dataset.<br><br>\n",
    "&nbsp;&nbsp;&nbsp;Here is the data for a random 'mazda' car:<br>\n",
    "&nbsp;&nbsp;&nbsp;aspiration = std<br>\n",
    "&nbsp;&nbsp;&nbsp;body-style = sedan<br>\n",
    "&nbsp;&nbsp;&nbsp;bore = 3.03<br>\n",
    "&nbsp;&nbsp;&nbsp;city-mpg = 31<br>\n",
    "&nbsp;&nbsp;&nbsp;compression-ratio = 9.0<br>\n",
    "&nbsp;&nbsp;&nbsp;curb-weight = 1945<br>\n",
    "&nbsp;&nbsp;&nbsp;drive-wheels = fwd<br>\n",
    "&nbsp;&nbsp;&nbsp;engine-location = front<br>\n",
    "&nbsp;&nbsp;&nbsp;engine-size = 91<br>\n",
    "&nbsp;&nbsp;&nbsp;engine-type = ohc<br>\n",
    "&nbsp;&nbsp;&nbsp;fuel-system = 2bbl<br>\n",
    "&nbsp;&nbsp;&nbsp;fuel-type = gas<br>\n",
    "&nbsp;&nbsp;&nbsp;height = 54.1<br>\n",
    "&nbsp;&nbsp;&nbsp;highway-mpg = 38<br>\n",
    "&nbsp;&nbsp;&nbsp;horsepower = 68.0<br>\n",
    "&nbsp;&nbsp;&nbsp;length = 166.8<br>\n",
    "&nbsp;&nbsp;&nbsp;make = mazda<br>\n",
    "&nbsp;&nbsp;&nbsp;normalized-losses = 113.0<br>\n",
    "&nbsp;&nbsp;&nbsp;num-of-cylinders = four<br>\n",
    "&nbsp;&nbsp;&nbsp;num-of-doors = four<br>\n",
    "&nbsp;&nbsp;&nbsp;peak-rpm = 5000.0<br>\n",
    "&nbsp;&nbsp;&nbsp;price = 6695.0<br>\n",
    "&nbsp;&nbsp;&nbsp;stroke = 3.15<br>\n",
    "&nbsp;&nbsp;&nbsp;symboling = 1<br>\n",
    "&nbsp;&nbsp;&nbsp;wheel-base = 93.1<br>\n",
    "&nbsp;&nbsp;&nbsp;width = 64.2<br>\n",
    "</details>"
   ]
  },
  {
   "cell_type": "code",
   "execution_count": 27,
   "metadata": {},
   "outputs": [
    {
     "name": "stdout",
     "output_type": "stream",
     "text": [
      "No cars found for the brand: BMW\n"
     ]
    }
   ],
   "source": [
    "import random as random\n",
    "\n",
    "brand= input(\"Enter a brand: \")\n",
    "brand_cars = autos[autos[\"make\"] == brand]\n",
    "\n",
    "if not brand_cars.empty:\n",
    "    num_cars = len(brand_cars)\n",
    "\n",
    "    random_index = random.randint(0, num_cars - 1)\n",
    "    random_car = brand_cars.iloc[random_index]\n",
    "\n",
    "    print(f\"Number of cars for {brand}: {num_cars}\")\n",
    "    print(\"Attributes for a random sample car of that brand:\")\n",
    "    print(random_car)\n",
    "else:\n",
    "    print(f\"No cars found for the brand: {brand}\")"
   ]
  },
  {
   "cell_type": "markdown",
   "metadata": {},
   "source": [
    "**T4:** Ask the user to input a brand, then export all cars of that brand to a .csv file with the same name as the brand.\n",
    "\n",
    "<details>\n",
    "<summary>Solution</summary>\n",
    "<br>\n",
    "&nbsp;&nbsp;&nbsp;<b>Example 1:</b><br>\n",
    "&nbsp;&nbsp;&nbsp;Input the name of a brand: volkswagen<br>\n",
    "&nbsp;&nbsp;&nbsp;Exported 12 cars to 'volkswagen.csv'<br>\n",
    "<br>\n",
    "&nbsp;&nbsp;&nbsp;<b>Example 2:</b><br>\n",
    "&nbsp;&nbsp;&nbsp;Input the name of a brand: tesla<br>\n",
    "&nbsp;&nbsp;&nbsp;The brand 'tesla' does not exists in the dataset.<br>\n",
    "</details>"
   ]
  },
  {
   "cell_type": "code",
   "execution_count": 29,
   "metadata": {},
   "outputs": [
    {
     "name": "stdout",
     "output_type": "stream",
     "text": [
      "No cars found for the brand: Tesla\n"
     ]
    }
   ],
   "source": [
    "import pandas as pd\n",
    "import csv\n",
    "\n",
    "\n",
    "# Ask the user to input a brand\n",
    "brand_to_export = input(\"Enter a brand: \")\n",
    "\n",
    "# Filter the dataset to include only the specified brand\n",
    "brand_cars = autos[autos['make'] == brand_to_export]\n",
    "\n",
    "# Check if there are any cars for the specified brand\n",
    "if not brand_cars.empty:\n",
    "    # Define the output file name as the brand name with .csv extension\n",
    "    output_filename = f\"{brand_to_export}.csv\"\n",
    "    \n",
    "    # Export the data to a .csv file\n",
    "    brand_cars.to_csv(output_filename, index=False)\n",
    "\n",
    "    print(f\"Data for {brand_to_export} cars has been exported to {output_filename}.\")\n",
    "else:\n",
    "    print(f\"No cars found for the brand: {brand_to_export}\")"
   ]
  }
 ],
 "metadata": {
  "kernelspec": {
   "display_name": "Databehandling-AI23-toKGAHu0",
   "language": "python",
   "name": "python3"
  },
  "language_info": {
   "codemirror_mode": {
    "name": "ipython",
    "version": 3
   },
   "file_extension": ".py",
   "mimetype": "text/x-python",
   "name": "python",
   "nbconvert_exporter": "python",
   "pygments_lexer": "ipython3",
   "version": "3.11.5"
  }
 },
 "nbformat": 4,
 "nbformat_minor": 2
}
