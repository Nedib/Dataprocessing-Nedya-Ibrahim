{
 "cells": [
  {
   "cell_type": "markdown",
   "metadata": {},
   "source": [
    "**Key Performance Indicators (KPIs): Data Analysis based on Data from European Centre for Disease Prevention and Control**\n",
    "\n",
    "\n",
    " In this scribt I loaded and modified COVID-19 data using the pandas library, renaming columns for clarity and removing unnecessary ones. Exploring the dataset revealed key statistics and identified the number of represented countries. Additionally, I analyzed and visualized total deaths by country, creating an interactive horizontal bar chart with Plotly Express. Further, I examined monthly deaths by country, highlighting the month and country with the highest death count. The results were printed, and a Seaborn bar plot depicting monthly deaths by country was created and saved as an image. This script provides a comprehensive analysis and visualization of COVID-19 data, shedding light on both cumulative and monthly death patterns across countries."
   ]
  },
  {
   "cell_type": "code",
   "execution_count": 1,
   "metadata": {},
   "outputs": [
    {
     "data": {
      "text/html": [
       "<div>\n",
       "<style scoped>\n",
       "    .dataframe tbody tr th:only-of-type {\n",
       "        vertical-align: middle;\n",
       "    }\n",
       "\n",
       "    .dataframe tbody tr th {\n",
       "        vertical-align: top;\n",
       "    }\n",
       "\n",
       "    .dataframe thead th {\n",
       "        text-align: right;\n",
       "    }\n",
       "</style>\n",
       "<table border=\"1\" class=\"dataframe\">\n",
       "  <thead>\n",
       "    <tr style=\"text-align: right;\">\n",
       "      <th></th>\n",
       "      <th>dateRep</th>\n",
       "      <th>year</th>\n",
       "      <th>month</th>\n",
       "      <th>day</th>\n",
       "      <th>cases</th>\n",
       "      <th>deaths</th>\n",
       "      <th>countriesAndTerritories</th>\n",
       "      <th>geoId</th>\n",
       "      <th>popData2020</th>\n",
       "      <th>countryterritoryCode</th>\n",
       "      <th>continentExp</th>\n",
       "    </tr>\n",
       "  </thead>\n",
       "  <tbody>\n",
       "    <tr>\n",
       "      <th>0</th>\n",
       "      <td>23/10/2022</td>\n",
       "      <td>2022</td>\n",
       "      <td>10</td>\n",
       "      <td>23</td>\n",
       "      <td>3557.0</td>\n",
       "      <td>0.0</td>\n",
       "      <td>Austria</td>\n",
       "      <td>AT</td>\n",
       "      <td>8901064</td>\n",
       "      <td>AUT</td>\n",
       "      <td>Europe</td>\n",
       "    </tr>\n",
       "    <tr>\n",
       "      <th>1</th>\n",
       "      <td>22/10/2022</td>\n",
       "      <td>2022</td>\n",
       "      <td>10</td>\n",
       "      <td>22</td>\n",
       "      <td>5494.0</td>\n",
       "      <td>4.0</td>\n",
       "      <td>Austria</td>\n",
       "      <td>AT</td>\n",
       "      <td>8901064</td>\n",
       "      <td>AUT</td>\n",
       "      <td>Europe</td>\n",
       "    </tr>\n",
       "    <tr>\n",
       "      <th>2</th>\n",
       "      <td>21/10/2022</td>\n",
       "      <td>2022</td>\n",
       "      <td>10</td>\n",
       "      <td>21</td>\n",
       "      <td>7776.0</td>\n",
       "      <td>4.0</td>\n",
       "      <td>Austria</td>\n",
       "      <td>AT</td>\n",
       "      <td>8901064</td>\n",
       "      <td>AUT</td>\n",
       "      <td>Europe</td>\n",
       "    </tr>\n",
       "    <tr>\n",
       "      <th>3</th>\n",
       "      <td>20/10/2022</td>\n",
       "      <td>2022</td>\n",
       "      <td>10</td>\n",
       "      <td>20</td>\n",
       "      <td>8221.0</td>\n",
       "      <td>6.0</td>\n",
       "      <td>Austria</td>\n",
       "      <td>AT</td>\n",
       "      <td>8901064</td>\n",
       "      <td>AUT</td>\n",
       "      <td>Europe</td>\n",
       "    </tr>\n",
       "    <tr>\n",
       "      <th>4</th>\n",
       "      <td>19/10/2022</td>\n",
       "      <td>2022</td>\n",
       "      <td>10</td>\n",
       "      <td>19</td>\n",
       "      <td>10007.0</td>\n",
       "      <td>8.0</td>\n",
       "      <td>Austria</td>\n",
       "      <td>AT</td>\n",
       "      <td>8901064</td>\n",
       "      <td>AUT</td>\n",
       "      <td>Europe</td>\n",
       "    </tr>\n",
       "  </tbody>\n",
       "</table>\n",
       "</div>"
      ],
      "text/plain": [
       "      dateRep  year  month  day    cases  deaths countriesAndTerritories  \\\n",
       "0  23/10/2022  2022     10   23   3557.0     0.0                 Austria   \n",
       "1  22/10/2022  2022     10   22   5494.0     4.0                 Austria   \n",
       "2  21/10/2022  2022     10   21   7776.0     4.0                 Austria   \n",
       "3  20/10/2022  2022     10   20   8221.0     6.0                 Austria   \n",
       "4  19/10/2022  2022     10   19  10007.0     8.0                 Austria   \n",
       "\n",
       "  geoId  popData2020 countryterritoryCode continentExp  \n",
       "0    AT      8901064                  AUT       Europe  \n",
       "1    AT      8901064                  AUT       Europe  \n",
       "2    AT      8901064                  AUT       Europe  \n",
       "3    AT      8901064                  AUT       Europe  \n",
       "4    AT      8901064                  AUT       Europe  "
      ]
     },
     "execution_count": 1,
     "metadata": {},
     "output_type": "execute_result"
    }
   ],
   "source": [
    "import pandas as pd\n",
    "import seaborn as sns\n",
    "import plotly.io as pio\n",
    "import plotly_express as px\n",
    "import plotly.graph_objects as go\n",
    "import matplotlib.pyplot as plt \n",
    "\n",
    "\n",
    "#The file path along with the variable.\n",
    "file_path = \"Data/data.xlsx\"\n",
    "work_sheet = \"Sheet1\"\n",
    "\n",
    "#Reads the file into a dataframe\n",
    "df = pd.read_excel(file_path, sheet_name= work_sheet)\n",
    "df.head()"
   ]
  },
  {
   "cell_type": "code",
   "execution_count": 2,
   "metadata": {},
   "outputs": [],
   "source": [
    "\"\"\"Modifying and renaming columns for easier use\"\"\"\n",
    "\n",
    "column_name_mapping = {\n",
    "    \"dateRep\": \"ReportDate\",\n",
    "    \"year\": \"Year\",\n",
    "    \"month\": \"Month\",\n",
    "    \"day\": \"Day\",\n",
    "    \"cases\": \"Cases\",\n",
    "    \"deaths\": \"Deaths\",\n",
    "    \"countriesAndTerritories\": \"Country\",\n",
    "    \"geoId\": \"GeoID\",\n",
    "    \"popData2020\": \"Population2020\",\n",
    "    \"countryterritoryCode\": \"CountryCode\",\n",
    "    \"continentExp\": \"Continent\"\n",
    "}\n",
    "\n",
    "# Use the rename function to change the names of the columns.\n",
    "df.rename(columns=column_name_mapping, inplace=True)"
   ]
  },
  {
   "cell_type": "code",
   "execution_count": 3,
   "metadata": {},
   "outputs": [
    {
     "data": {
      "text/html": [
       "<div>\n",
       "<style scoped>\n",
       "    .dataframe tbody tr th:only-of-type {\n",
       "        vertical-align: middle;\n",
       "    }\n",
       "\n",
       "    .dataframe tbody tr th {\n",
       "        vertical-align: top;\n",
       "    }\n",
       "\n",
       "    .dataframe thead th {\n",
       "        text-align: right;\n",
       "    }\n",
       "</style>\n",
       "<table border=\"1\" class=\"dataframe\">\n",
       "  <thead>\n",
       "    <tr style=\"text-align: right;\">\n",
       "      <th></th>\n",
       "      <th>Year</th>\n",
       "      <th>Month</th>\n",
       "      <th>Day</th>\n",
       "      <th>Cases</th>\n",
       "      <th>Deaths</th>\n",
       "      <th>Country</th>\n",
       "      <th>Population2020</th>\n",
       "      <th>Continent</th>\n",
       "    </tr>\n",
       "  </thead>\n",
       "  <tbody>\n",
       "    <tr>\n",
       "      <th>0</th>\n",
       "      <td>2022</td>\n",
       "      <td>10</td>\n",
       "      <td>23</td>\n",
       "      <td>3557.0</td>\n",
       "      <td>0.0</td>\n",
       "      <td>Austria</td>\n",
       "      <td>8901064</td>\n",
       "      <td>Europe</td>\n",
       "    </tr>\n",
       "    <tr>\n",
       "      <th>1</th>\n",
       "      <td>2022</td>\n",
       "      <td>10</td>\n",
       "      <td>22</td>\n",
       "      <td>5494.0</td>\n",
       "      <td>4.0</td>\n",
       "      <td>Austria</td>\n",
       "      <td>8901064</td>\n",
       "      <td>Europe</td>\n",
       "    </tr>\n",
       "    <tr>\n",
       "      <th>2</th>\n",
       "      <td>2022</td>\n",
       "      <td>10</td>\n",
       "      <td>21</td>\n",
       "      <td>7776.0</td>\n",
       "      <td>4.0</td>\n",
       "      <td>Austria</td>\n",
       "      <td>8901064</td>\n",
       "      <td>Europe</td>\n",
       "    </tr>\n",
       "    <tr>\n",
       "      <th>3</th>\n",
       "      <td>2022</td>\n",
       "      <td>10</td>\n",
       "      <td>20</td>\n",
       "      <td>8221.0</td>\n",
       "      <td>6.0</td>\n",
       "      <td>Austria</td>\n",
       "      <td>8901064</td>\n",
       "      <td>Europe</td>\n",
       "    </tr>\n",
       "    <tr>\n",
       "      <th>4</th>\n",
       "      <td>2022</td>\n",
       "      <td>10</td>\n",
       "      <td>19</td>\n",
       "      <td>10007.0</td>\n",
       "      <td>8.0</td>\n",
       "      <td>Austria</td>\n",
       "      <td>8901064</td>\n",
       "      <td>Europe</td>\n",
       "    </tr>\n",
       "  </tbody>\n",
       "</table>\n",
       "</div>"
      ],
      "text/plain": [
       "   Year  Month  Day    Cases  Deaths  Country  Population2020 Continent\n",
       "0  2022     10   23   3557.0     0.0  Austria         8901064    Europe\n",
       "1  2022     10   22   5494.0     4.0  Austria         8901064    Europe\n",
       "2  2022     10   21   7776.0     4.0  Austria         8901064    Europe\n",
       "3  2022     10   20   8221.0     6.0  Austria         8901064    Europe\n",
       "4  2022     10   19  10007.0     8.0  Austria         8901064    Europe"
      ]
     },
     "execution_count": 3,
     "metadata": {},
     "output_type": "execute_result"
    }
   ],
   "source": [
    "\"\"\"Removing columns I don't need for easier use\"\"\"\n",
    "columns_to_remove = [\"GeoID\", \"CountryCode\", \"ReportDate\"]\n",
    "df = df.drop(columns=columns_to_remove)\n",
    "df.head()"
   ]
  },
  {
   "cell_type": "markdown",
   "metadata": {},
   "source": [
    "Data analysis: Loading data file and starting to process the data"
   ]
  },
  {
   "cell_type": "code",
   "execution_count": 4,
   "metadata": {},
   "outputs": [
    {
     "name": "stdout",
     "output_type": "stream",
     "text": [
      "<class 'pandas.core.frame.DataFrame'>\n",
      "RangeIndex: 28729 entries, 0 to 28728\n",
      "Data columns (total 8 columns):\n",
      " #   Column          Non-Null Count  Dtype  \n",
      "---  ------          --------------  -----  \n",
      " 0   Year            28729 non-null  int64  \n",
      " 1   Month           28729 non-null  int64  \n",
      " 2   Day             28729 non-null  int64  \n",
      " 3   Cases           28636 non-null  float64\n",
      " 4   Deaths          28437 non-null  float64\n",
      " 5   Country         28729 non-null  object \n",
      " 6   Population2020  28729 non-null  int64  \n",
      " 7   Continent       28729 non-null  object \n",
      "dtypes: float64(2), int64(4), object(2)\n",
      "memory usage: 1.8+ MB\n"
     ]
    }
   ],
   "source": [
    "df.info()"
   ]
  },
  {
   "cell_type": "code",
   "execution_count": 5,
   "metadata": {},
   "outputs": [
    {
     "data": {
      "text/plain": [
       "28729"
      ]
     },
     "execution_count": 5,
     "metadata": {},
     "output_type": "execute_result"
    }
   ],
   "source": [
    "len(df)"
   ]
  },
  {
   "cell_type": "code",
   "execution_count": 6,
   "metadata": {},
   "outputs": [
    {
     "data": {
      "text/html": [
       "<div>\n",
       "<style scoped>\n",
       "    .dataframe tbody tr th:only-of-type {\n",
       "        vertical-align: middle;\n",
       "    }\n",
       "\n",
       "    .dataframe tbody tr th {\n",
       "        vertical-align: top;\n",
       "    }\n",
       "\n",
       "    .dataframe thead th {\n",
       "        text-align: right;\n",
       "    }\n",
       "</style>\n",
       "<table border=\"1\" class=\"dataframe\">\n",
       "  <thead>\n",
       "    <tr style=\"text-align: right;\">\n",
       "      <th></th>\n",
       "      <th>Year</th>\n",
       "      <th>Month</th>\n",
       "      <th>Day</th>\n",
       "      <th>Cases</th>\n",
       "      <th>Deaths</th>\n",
       "      <th>Population2020</th>\n",
       "    </tr>\n",
       "  </thead>\n",
       "  <tbody>\n",
       "    <tr>\n",
       "      <th>count</th>\n",
       "      <td>28729.000000</td>\n",
       "      <td>28729.000000</td>\n",
       "      <td>28729.000000</td>\n",
       "      <td>28636.000000</td>\n",
       "      <td>28437.000000</td>\n",
       "      <td>2.872900e+04</td>\n",
       "    </tr>\n",
       "    <tr>\n",
       "      <th>mean</th>\n",
       "      <td>2020.967559</td>\n",
       "      <td>6.431446</td>\n",
       "      <td>15.681855</td>\n",
       "      <td>6088.425129</td>\n",
       "      <td>40.866160</td>\n",
       "      <td>1.534803e+07</td>\n",
       "    </tr>\n",
       "    <tr>\n",
       "      <th>std</th>\n",
       "      <td>0.789220</td>\n",
       "      <td>3.223586</td>\n",
       "      <td>8.778566</td>\n",
       "      <td>21455.994469</td>\n",
       "      <td>128.729388</td>\n",
       "      <td>2.142396e+07</td>\n",
       "    </tr>\n",
       "    <tr>\n",
       "      <th>min</th>\n",
       "      <td>2020.000000</td>\n",
       "      <td>1.000000</td>\n",
       "      <td>1.000000</td>\n",
       "      <td>-348846.000000</td>\n",
       "      <td>-217.000000</td>\n",
       "      <td>3.874700e+04</td>\n",
       "    </tr>\n",
       "    <tr>\n",
       "      <th>25%</th>\n",
       "      <td>2020.000000</td>\n",
       "      <td>4.000000</td>\n",
       "      <td>8.000000</td>\n",
       "      <td>111.000000</td>\n",
       "      <td>0.000000</td>\n",
       "      <td>2.095861e+06</td>\n",
       "    </tr>\n",
       "    <tr>\n",
       "      <th>50%</th>\n",
       "      <td>2021.000000</td>\n",
       "      <td>6.000000</td>\n",
       "      <td>16.000000</td>\n",
       "      <td>705.000000</td>\n",
       "      <td>5.000000</td>\n",
       "      <td>6.951482e+06</td>\n",
       "    </tr>\n",
       "    <tr>\n",
       "      <th>75%</th>\n",
       "      <td>2022.000000</td>\n",
       "      <td>9.000000</td>\n",
       "      <td>23.000000</td>\n",
       "      <td>3483.250000</td>\n",
       "      <td>31.000000</td>\n",
       "      <td>1.152244e+07</td>\n",
       "    </tr>\n",
       "    <tr>\n",
       "      <th>max</th>\n",
       "      <td>2022.000000</td>\n",
       "      <td>12.000000</td>\n",
       "      <td>31.000000</td>\n",
       "      <td>501635.000000</td>\n",
       "      <td>13743.000000</td>\n",
       "      <td>8.316671e+07</td>\n",
       "    </tr>\n",
       "  </tbody>\n",
       "</table>\n",
       "</div>"
      ],
      "text/plain": [
       "               Year         Month           Day          Cases        Deaths  \\\n",
       "count  28729.000000  28729.000000  28729.000000   28636.000000  28437.000000   \n",
       "mean    2020.967559      6.431446     15.681855    6088.425129     40.866160   \n",
       "std        0.789220      3.223586      8.778566   21455.994469    128.729388   \n",
       "min     2020.000000      1.000000      1.000000 -348846.000000   -217.000000   \n",
       "25%     2020.000000      4.000000      8.000000     111.000000      0.000000   \n",
       "50%     2021.000000      6.000000     16.000000     705.000000      5.000000   \n",
       "75%     2022.000000      9.000000     23.000000    3483.250000     31.000000   \n",
       "max     2022.000000     12.000000     31.000000  501635.000000  13743.000000   \n",
       "\n",
       "       Population2020  \n",
       "count    2.872900e+04  \n",
       "mean     1.534803e+07  \n",
       "std      2.142396e+07  \n",
       "min      3.874700e+04  \n",
       "25%      2.095861e+06  \n",
       "50%      6.951482e+06  \n",
       "75%      1.152244e+07  \n",
       "max      8.316671e+07  "
      ]
     },
     "execution_count": 6,
     "metadata": {},
     "output_type": "execute_result"
    }
   ],
   "source": [
    "df.describe()"
   ]
  },
  {
   "cell_type": "code",
   "execution_count": 7,
   "metadata": {},
   "outputs": [
    {
     "data": {
      "text/plain": [
       "array([2022, 2021, 2020], dtype=int64)"
      ]
     },
     "execution_count": 7,
     "metadata": {},
     "output_type": "execute_result"
    }
   ],
   "source": [
    "df[\"Year\"].unique()"
   ]
  },
  {
   "cell_type": "markdown",
   "metadata": {},
   "source": [
    "How many countries are represented in the dataset representing Europe?"
   ]
  },
  {
   "cell_type": "code",
   "execution_count": 8,
   "metadata": {},
   "outputs": [
    {
     "name": "stdout",
     "output_type": "stream",
     "text": [
      "The number of countries represented in the dataset is: 30\n"
     ]
    },
    {
     "data": {
      "text/plain": [
       "array(['Austria', 'Belgium', 'Bulgaria', 'Croatia', 'Cyprus', 'Czechia',\n",
       "       'Denmark', 'Estonia', 'Finland', 'France', 'Germany', 'Greece',\n",
       "       'Hungary', 'Iceland', 'Ireland', 'Italy', 'Latvia',\n",
       "       'Liechtenstein', 'Lithuania', 'Luxembourg', 'Malta', 'Netherlands',\n",
       "       'Norway', 'Poland', 'Portugal', 'Romania', 'Slovakia', 'Slovenia',\n",
       "       'Spain', 'Sweden'], dtype=object)"
      ]
     },
     "execution_count": 8,
     "metadata": {},
     "output_type": "execute_result"
    }
   ],
   "source": [
    "countries = len(df[\"Country\"].unique())\n",
    "print(f\"The number of countries represented in the dataset is: {countries}\")\n",
    "\n",
    "# The names of all the countries\n",
    "df[\"Country\"].unique()"
   ]
  },
  {
   "cell_type": "markdown",
   "metadata": {},
   "source": [
    "What is the total population in this dataset?"
   ]
  },
  {
   "cell_type": "code",
   "execution_count": 9,
   "metadata": {},
   "outputs": [
    {
     "name": "stdout",
     "output_type": "stream",
     "text": [
      "The total population of this dataset is: 453,090,377\n"
     ]
    }
   ],
   "source": [
    "# Calculate the sum of unique population values\n",
    "Population = df[\"Population2020\"].unique().sum()\n",
    "print(f\"The total population of this dataset is: {Population:,}\")\n"
   ]
  },
  {
   "cell_type": "markdown",
   "metadata": {},
   "source": [
    "**- A) KPI: \"What is the ranking of countries based on the total number of deaths in the provided data, and which country has the highest and lowest number of deaths?**"
   ]
  },
  {
   "cell_type": "code",
   "execution_count": 10,
   "metadata": {},
   "outputs": [
    {
     "name": "stdout",
     "output_type": "stream",
     "text": [
      "          Country    Deaths\n",
      "15          Italy  178633.0\n",
      "9          France  156509.0\n",
      "10        Germany  152753.0\n",
      "23         Poland  118050.0\n",
      "28          Spain  114110.0\n",
      "25        Romania   67179.0\n",
      "12        Hungary   47938.0\n",
      "5         Czechia   41524.0\n",
      "2        Bulgaria   37790.0\n",
      "11         Greece   33574.0\n",
      "1         Belgium   32883.0\n",
      "24       Portugal   25131.0\n",
      "21    Netherlands   22771.0\n",
      "0         Austria   20899.0\n",
      "26       Slovakia   20511.0\n",
      "29         Sweden   20407.0\n",
      "3         Croatia   17085.0\n",
      "18      Lithuania    9386.0\n",
      "14        Ireland    8010.0\n",
      "6         Denmark    7274.0\n",
      "27       Slovenia    6875.0\n",
      "8         Finland    6407.0\n",
      "16         Latvia    6044.0\n",
      "22         Norway    4187.0\n",
      "7         Estonia    2739.0\n",
      "4          Cyprus    1191.0\n",
      "19     Luxembourg    1144.0\n",
      "20          Malta     808.0\n",
      "13        Iceland     213.0\n",
      "17  Liechtenstein      86.0\n"
     ]
    }
   ],
   "source": [
    "\"\"\"\"This code groups the data by country and calculates the total number of deaths for each country.\n",
    "The results are displayed in a DataFrame, which is then sorted in descending order based on the\n",
    " number of deaths\"\"\"\n",
    "\n",
    "#  Group by country and sum the number of deaths.\n",
    "deaths_by_country = df.groupby(\"Country\")[\"Deaths\"].sum()\n",
    "\n",
    "#Resetting the index for deaths_by_country DataFrame.\n",
    "deaths_by_country = deaths_by_country.reset_index()\n",
    "\n",
    "#Sort the DataFrame by the number of deaths in descending order (most at the top)\n",
    "deaths_by_country = deaths_by_country.sort_values(by=\"Deaths\", ascending=False)\n",
    "\n",
    "# Show result\n",
    "print(deaths_by_country)\n"
   ]
  },
  {
   "cell_type": "code",
   "execution_count": 11,
   "metadata": {},
   "outputs": [
    {
     "data": {
      "application/vnd.plotly.v1+json": {
       "config": {
        "plotlyServerURL": "https://plot.ly"
       },
       "data": [
        {
         "alignmentgroup": "True",
         "hovertemplate": "Deaths=%{marker.color}<br>Country=%{y}<extra></extra>",
         "legendgroup": "",
         "marker": {
          "color": [
           178633,
           156509,
           152753,
           118050,
           114110,
           67179,
           47938,
           41524,
           37790,
           33574,
           32883,
           25131,
           22771,
           20899,
           20511,
           20407,
           17085,
           9386,
           8010,
           7274,
           6875,
           6407,
           6044,
           4187,
           2739,
           1191,
           1144,
           808,
           213,
           86
          ],
          "coloraxis": "coloraxis",
          "pattern": {
           "shape": ""
          }
         },
         "name": "",
         "offsetgroup": "",
         "orientation": "h",
         "showlegend": false,
         "textposition": "auto",
         "type": "bar",
         "x": [
          178633,
          156509,
          152753,
          118050,
          114110,
          67179,
          47938,
          41524,
          37790,
          33574,
          32883,
          25131,
          22771,
          20899,
          20511,
          20407,
          17085,
          9386,
          8010,
          7274,
          6875,
          6407,
          6044,
          4187,
          2739,
          1191,
          1144,
          808,
          213,
          86
         ],
         "xaxis": "x",
         "y": [
          "Italy",
          "France",
          "Germany",
          "Poland",
          "Spain",
          "Romania",
          "Hungary",
          "Czechia",
          "Bulgaria",
          "Greece",
          "Belgium",
          "Portugal",
          "Netherlands",
          "Austria",
          "Slovakia",
          "Sweden",
          "Croatia",
          "Lithuania",
          "Ireland",
          "Denmark",
          "Slovenia",
          "Finland",
          "Latvia",
          "Norway",
          "Estonia",
          "Cyprus",
          "Luxembourg",
          "Malta",
          "Iceland",
          "Liechtenstein"
         ],
         "yaxis": "y"
        }
       ],
       "layout": {
        "barmode": "relative",
        "coloraxis": {
         "colorbar": {
          "title": {
           "text": "Deaths"
          }
         },
         "colorscale": [
          [
           0,
           "#440154"
          ],
          [
           0.1111111111111111,
           "#482878"
          ],
          [
           0.2222222222222222,
           "#3e4989"
          ],
          [
           0.3333333333333333,
           "#31688e"
          ],
          [
           0.4444444444444444,
           "#26828e"
          ],
          [
           0.5555555555555556,
           "#1f9e89"
          ],
          [
           0.6666666666666666,
           "#35b779"
          ],
          [
           0.7777777777777778,
           "#6ece58"
          ],
          [
           0.8888888888888888,
           "#b5de2b"
          ],
          [
           1,
           "#fde725"
          ]
         ]
        },
        "legend": {
         "tracegroupgap": 0
        },
        "template": {
         "data": {
          "bar": [
           {
            "error_x": {
             "color": "#2a3f5f"
            },
            "error_y": {
             "color": "#2a3f5f"
            },
            "marker": {
             "line": {
              "color": "#E5ECF6",
              "width": 0.5
             },
             "pattern": {
              "fillmode": "overlay",
              "size": 10,
              "solidity": 0.2
             }
            },
            "type": "bar"
           }
          ],
          "barpolar": [
           {
            "marker": {
             "line": {
              "color": "#E5ECF6",
              "width": 0.5
             },
             "pattern": {
              "fillmode": "overlay",
              "size": 10,
              "solidity": 0.2
             }
            },
            "type": "barpolar"
           }
          ],
          "carpet": [
           {
            "aaxis": {
             "endlinecolor": "#2a3f5f",
             "gridcolor": "white",
             "linecolor": "white",
             "minorgridcolor": "white",
             "startlinecolor": "#2a3f5f"
            },
            "baxis": {
             "endlinecolor": "#2a3f5f",
             "gridcolor": "white",
             "linecolor": "white",
             "minorgridcolor": "white",
             "startlinecolor": "#2a3f5f"
            },
            "type": "carpet"
           }
          ],
          "choropleth": [
           {
            "colorbar": {
             "outlinewidth": 0,
             "ticks": ""
            },
            "type": "choropleth"
           }
          ],
          "contour": [
           {
            "colorbar": {
             "outlinewidth": 0,
             "ticks": ""
            },
            "colorscale": [
             [
              0,
              "#0d0887"
             ],
             [
              0.1111111111111111,
              "#46039f"
             ],
             [
              0.2222222222222222,
              "#7201a8"
             ],
             [
              0.3333333333333333,
              "#9c179e"
             ],
             [
              0.4444444444444444,
              "#bd3786"
             ],
             [
              0.5555555555555556,
              "#d8576b"
             ],
             [
              0.6666666666666666,
              "#ed7953"
             ],
             [
              0.7777777777777778,
              "#fb9f3a"
             ],
             [
              0.8888888888888888,
              "#fdca26"
             ],
             [
              1,
              "#f0f921"
             ]
            ],
            "type": "contour"
           }
          ],
          "contourcarpet": [
           {
            "colorbar": {
             "outlinewidth": 0,
             "ticks": ""
            },
            "type": "contourcarpet"
           }
          ],
          "heatmap": [
           {
            "colorbar": {
             "outlinewidth": 0,
             "ticks": ""
            },
            "colorscale": [
             [
              0,
              "#0d0887"
             ],
             [
              0.1111111111111111,
              "#46039f"
             ],
             [
              0.2222222222222222,
              "#7201a8"
             ],
             [
              0.3333333333333333,
              "#9c179e"
             ],
             [
              0.4444444444444444,
              "#bd3786"
             ],
             [
              0.5555555555555556,
              "#d8576b"
             ],
             [
              0.6666666666666666,
              "#ed7953"
             ],
             [
              0.7777777777777778,
              "#fb9f3a"
             ],
             [
              0.8888888888888888,
              "#fdca26"
             ],
             [
              1,
              "#f0f921"
             ]
            ],
            "type": "heatmap"
           }
          ],
          "heatmapgl": [
           {
            "colorbar": {
             "outlinewidth": 0,
             "ticks": ""
            },
            "colorscale": [
             [
              0,
              "#0d0887"
             ],
             [
              0.1111111111111111,
              "#46039f"
             ],
             [
              0.2222222222222222,
              "#7201a8"
             ],
             [
              0.3333333333333333,
              "#9c179e"
             ],
             [
              0.4444444444444444,
              "#bd3786"
             ],
             [
              0.5555555555555556,
              "#d8576b"
             ],
             [
              0.6666666666666666,
              "#ed7953"
             ],
             [
              0.7777777777777778,
              "#fb9f3a"
             ],
             [
              0.8888888888888888,
              "#fdca26"
             ],
             [
              1,
              "#f0f921"
             ]
            ],
            "type": "heatmapgl"
           }
          ],
          "histogram": [
           {
            "marker": {
             "pattern": {
              "fillmode": "overlay",
              "size": 10,
              "solidity": 0.2
             }
            },
            "type": "histogram"
           }
          ],
          "histogram2d": [
           {
            "colorbar": {
             "outlinewidth": 0,
             "ticks": ""
            },
            "colorscale": [
             [
              0,
              "#0d0887"
             ],
             [
              0.1111111111111111,
              "#46039f"
             ],
             [
              0.2222222222222222,
              "#7201a8"
             ],
             [
              0.3333333333333333,
              "#9c179e"
             ],
             [
              0.4444444444444444,
              "#bd3786"
             ],
             [
              0.5555555555555556,
              "#d8576b"
             ],
             [
              0.6666666666666666,
              "#ed7953"
             ],
             [
              0.7777777777777778,
              "#fb9f3a"
             ],
             [
              0.8888888888888888,
              "#fdca26"
             ],
             [
              1,
              "#f0f921"
             ]
            ],
            "type": "histogram2d"
           }
          ],
          "histogram2dcontour": [
           {
            "colorbar": {
             "outlinewidth": 0,
             "ticks": ""
            },
            "colorscale": [
             [
              0,
              "#0d0887"
             ],
             [
              0.1111111111111111,
              "#46039f"
             ],
             [
              0.2222222222222222,
              "#7201a8"
             ],
             [
              0.3333333333333333,
              "#9c179e"
             ],
             [
              0.4444444444444444,
              "#bd3786"
             ],
             [
              0.5555555555555556,
              "#d8576b"
             ],
             [
              0.6666666666666666,
              "#ed7953"
             ],
             [
              0.7777777777777778,
              "#fb9f3a"
             ],
             [
              0.8888888888888888,
              "#fdca26"
             ],
             [
              1,
              "#f0f921"
             ]
            ],
            "type": "histogram2dcontour"
           }
          ],
          "mesh3d": [
           {
            "colorbar": {
             "outlinewidth": 0,
             "ticks": ""
            },
            "type": "mesh3d"
           }
          ],
          "parcoords": [
           {
            "line": {
             "colorbar": {
              "outlinewidth": 0,
              "ticks": ""
             }
            },
            "type": "parcoords"
           }
          ],
          "pie": [
           {
            "automargin": true,
            "type": "pie"
           }
          ],
          "scatter": [
           {
            "fillpattern": {
             "fillmode": "overlay",
             "size": 10,
             "solidity": 0.2
            },
            "type": "scatter"
           }
          ],
          "scatter3d": [
           {
            "line": {
             "colorbar": {
              "outlinewidth": 0,
              "ticks": ""
             }
            },
            "marker": {
             "colorbar": {
              "outlinewidth": 0,
              "ticks": ""
             }
            },
            "type": "scatter3d"
           }
          ],
          "scattercarpet": [
           {
            "marker": {
             "colorbar": {
              "outlinewidth": 0,
              "ticks": ""
             }
            },
            "type": "scattercarpet"
           }
          ],
          "scattergeo": [
           {
            "marker": {
             "colorbar": {
              "outlinewidth": 0,
              "ticks": ""
             }
            },
            "type": "scattergeo"
           }
          ],
          "scattergl": [
           {
            "marker": {
             "colorbar": {
              "outlinewidth": 0,
              "ticks": ""
             }
            },
            "type": "scattergl"
           }
          ],
          "scattermapbox": [
           {
            "marker": {
             "colorbar": {
              "outlinewidth": 0,
              "ticks": ""
             }
            },
            "type": "scattermapbox"
           }
          ],
          "scatterpolar": [
           {
            "marker": {
             "colorbar": {
              "outlinewidth": 0,
              "ticks": ""
             }
            },
            "type": "scatterpolar"
           }
          ],
          "scatterpolargl": [
           {
            "marker": {
             "colorbar": {
              "outlinewidth": 0,
              "ticks": ""
             }
            },
            "type": "scatterpolargl"
           }
          ],
          "scatterternary": [
           {
            "marker": {
             "colorbar": {
              "outlinewidth": 0,
              "ticks": ""
             }
            },
            "type": "scatterternary"
           }
          ],
          "surface": [
           {
            "colorbar": {
             "outlinewidth": 0,
             "ticks": ""
            },
            "colorscale": [
             [
              0,
              "#0d0887"
             ],
             [
              0.1111111111111111,
              "#46039f"
             ],
             [
              0.2222222222222222,
              "#7201a8"
             ],
             [
              0.3333333333333333,
              "#9c179e"
             ],
             [
              0.4444444444444444,
              "#bd3786"
             ],
             [
              0.5555555555555556,
              "#d8576b"
             ],
             [
              0.6666666666666666,
              "#ed7953"
             ],
             [
              0.7777777777777778,
              "#fb9f3a"
             ],
             [
              0.8888888888888888,
              "#fdca26"
             ],
             [
              1,
              "#f0f921"
             ]
            ],
            "type": "surface"
           }
          ],
          "table": [
           {
            "cells": {
             "fill": {
              "color": "#EBF0F8"
             },
             "line": {
              "color": "white"
             }
            },
            "header": {
             "fill": {
              "color": "#C8D4E3"
             },
             "line": {
              "color": "white"
             }
            },
            "type": "table"
           }
          ]
         },
         "layout": {
          "annotationdefaults": {
           "arrowcolor": "#2a3f5f",
           "arrowhead": 0,
           "arrowwidth": 1
          },
          "autotypenumbers": "strict",
          "coloraxis": {
           "colorbar": {
            "outlinewidth": 0,
            "ticks": ""
           }
          },
          "colorscale": {
           "diverging": [
            [
             0,
             "#8e0152"
            ],
            [
             0.1,
             "#c51b7d"
            ],
            [
             0.2,
             "#de77ae"
            ],
            [
             0.3,
             "#f1b6da"
            ],
            [
             0.4,
             "#fde0ef"
            ],
            [
             0.5,
             "#f7f7f7"
            ],
            [
             0.6,
             "#e6f5d0"
            ],
            [
             0.7,
             "#b8e186"
            ],
            [
             0.8,
             "#7fbc41"
            ],
            [
             0.9,
             "#4d9221"
            ],
            [
             1,
             "#276419"
            ]
           ],
           "sequential": [
            [
             0,
             "#0d0887"
            ],
            [
             0.1111111111111111,
             "#46039f"
            ],
            [
             0.2222222222222222,
             "#7201a8"
            ],
            [
             0.3333333333333333,
             "#9c179e"
            ],
            [
             0.4444444444444444,
             "#bd3786"
            ],
            [
             0.5555555555555556,
             "#d8576b"
            ],
            [
             0.6666666666666666,
             "#ed7953"
            ],
            [
             0.7777777777777778,
             "#fb9f3a"
            ],
            [
             0.8888888888888888,
             "#fdca26"
            ],
            [
             1,
             "#f0f921"
            ]
           ],
           "sequentialminus": [
            [
             0,
             "#0d0887"
            ],
            [
             0.1111111111111111,
             "#46039f"
            ],
            [
             0.2222222222222222,
             "#7201a8"
            ],
            [
             0.3333333333333333,
             "#9c179e"
            ],
            [
             0.4444444444444444,
             "#bd3786"
            ],
            [
             0.5555555555555556,
             "#d8576b"
            ],
            [
             0.6666666666666666,
             "#ed7953"
            ],
            [
             0.7777777777777778,
             "#fb9f3a"
            ],
            [
             0.8888888888888888,
             "#fdca26"
            ],
            [
             1,
             "#f0f921"
            ]
           ]
          },
          "colorway": [
           "#636efa",
           "#EF553B",
           "#00cc96",
           "#ab63fa",
           "#FFA15A",
           "#19d3f3",
           "#FF6692",
           "#B6E880",
           "#FF97FF",
           "#FECB52"
          ],
          "font": {
           "color": "#2a3f5f"
          },
          "geo": {
           "bgcolor": "white",
           "lakecolor": "white",
           "landcolor": "#E5ECF6",
           "showlakes": true,
           "showland": true,
           "subunitcolor": "white"
          },
          "hoverlabel": {
           "align": "left"
          },
          "hovermode": "closest",
          "mapbox": {
           "style": "light"
          },
          "paper_bgcolor": "white",
          "plot_bgcolor": "#E5ECF6",
          "polar": {
           "angularaxis": {
            "gridcolor": "white",
            "linecolor": "white",
            "ticks": ""
           },
           "bgcolor": "#E5ECF6",
           "radialaxis": {
            "gridcolor": "white",
            "linecolor": "white",
            "ticks": ""
           }
          },
          "scene": {
           "xaxis": {
            "backgroundcolor": "#E5ECF6",
            "gridcolor": "white",
            "gridwidth": 2,
            "linecolor": "white",
            "showbackground": true,
            "ticks": "",
            "zerolinecolor": "white"
           },
           "yaxis": {
            "backgroundcolor": "#E5ECF6",
            "gridcolor": "white",
            "gridwidth": 2,
            "linecolor": "white",
            "showbackground": true,
            "ticks": "",
            "zerolinecolor": "white"
           },
           "zaxis": {
            "backgroundcolor": "#E5ECF6",
            "gridcolor": "white",
            "gridwidth": 2,
            "linecolor": "white",
            "showbackground": true,
            "ticks": "",
            "zerolinecolor": "white"
           }
          },
          "shapedefaults": {
           "line": {
            "color": "#2a3f5f"
           }
          },
          "ternary": {
           "aaxis": {
            "gridcolor": "white",
            "linecolor": "white",
            "ticks": ""
           },
           "baxis": {
            "gridcolor": "white",
            "linecolor": "white",
            "ticks": ""
           },
           "bgcolor": "#E5ECF6",
           "caxis": {
            "gridcolor": "white",
            "linecolor": "white",
            "ticks": ""
           }
          },
          "title": {
           "x": 0.05
          },
          "xaxis": {
           "automargin": true,
           "gridcolor": "white",
           "linecolor": "white",
           "ticks": "",
           "title": {
            "standoff": 15
           },
           "zerolinecolor": "white",
           "zerolinewidth": 2
          },
          "yaxis": {
           "automargin": true,
           "gridcolor": "white",
           "linecolor": "white",
           "ticks": "",
           "title": {
            "standoff": 15
           },
           "zerolinecolor": "white",
           "zerolinewidth": 2
          }
         }
        },
        "title": {
         "text": "Totalt antal dödsfall per land"
        },
        "xaxis": {
         "anchor": "y",
         "domain": [
          0,
          1
         ],
         "title": {
          "text": "Deaths"
         }
        },
        "yaxis": {
         "anchor": "x",
         "domain": [
          0,
          1
         ],
         "title": {
          "text": "Country"
         }
        }
       }
      }
     },
     "metadata": {},
     "output_type": "display_data"
    }
   ],
   "source": [
    "\"\"\"Create a horizontal bar chart using Plotly Express\n",
    " to visualize the total number of deaths per country\"\"\"\n",
    " \n",
    " #Generate a horizontal bar plot using Plotly Express\n",
    "fig = px.bar(deaths_by_country, x=\"Deaths\", y=\"Country\", orientation=\"h\",\n",
    "             title=\"Totalt antal dödsfall per land\",\n",
    "             color=\"Deaths\",\n",
    "             color_continuous_scale=\"Viridis\") \n",
    "\n",
    "# Save the plot as an image            \n",
    "fig.write_html(\"Visualiseringar/4A.Totalt antal dödsfall per land.html\")\n",
    "\n",
    "# Display the plot\n",
    "fig.show()"
   ]
  },
  {
   "cell_type": "markdown",
   "metadata": {},
   "source": [
    " **conclusion**\n",
    " \n",
    " I observe that Italy has the highest total number of deaths with 178,633, followed by France with 156,509, and Germany with 152,753. There is a significant variation in the number of deaths among different countries, where some, like Poland, Spain, Romania, and Hungary, report high numbers of deaths. On the other hand, some countries, such as Luxembourg, Malta, and Iceland, have considerably lower death tolls, indicating a potential variation in the impact of the pandemic."
   ]
  },
  {
   "cell_type": "markdown",
   "metadata": {},
   "source": [
    "**- B) KPI: How does the monthly distribution of deaths vary over the provided data?**"
   ]
  },
  {
   "cell_type": "code",
   "execution_count": 12,
   "metadata": {},
   "outputs": [
    {
     "name": "stdout",
     "output_type": "stream",
     "text": [
      "Which month, year, and country had the highest number of deaths?: (2020, 12, 'Germany')\n",
      "Number of deaths during that month: 26080.0\n",
      "                     Deaths     Cases\n",
      "Year Month Country                   \n",
      "2020 12    Germany  26080.0  678821.0\n",
      "     4     France   20840.0   77453.0\n",
      "2021 1     Germany  19501.0  467162.0\n",
      "2020 12    Italy    18583.0  505612.0\n",
      "     11    Italy    16958.0  922124.0\n",
      "...                     ...       ...\n",
      "           Greece       0.0   66020.0\n",
      "     12    Greece       0.0   33579.0\n",
      "2021 1     Greece       0.0   18107.0\n",
      "           Iceland      0.0     246.0\n",
      "2020 1     Czechia      0.0       0.0\n",
      "\n",
      "[985 rows x 2 columns]\n"
     ]
    }
   ],
   "source": [
    "\"\"\"The code transforms date columns and calculates monthly death and case statistics.\n",
    "It identifies the month with the highest deaths, prints the results, \n",
    "including the country and death count for that month.\"\"\"\n",
    "\n",
    "df[\"Date\"] = pd.to_datetime(df[[\"Year\", \"Month\", \"Day\"]])\n",
    "\n",
    "# Group by month and calculate the total number of deaths per month\n",
    "monthly_stats = df.groupby([\"Year\", \"Month\", \"Country\"]).agg({\"Deaths\": \"sum\", \"Cases\": \"sum\"})\n",
    "\n",
    "# Find the month with the highest number of deaths\n",
    "max_deaths_month = monthly_stats[\"Deaths\"].idxmax()\n",
    "\n",
    "monthly_stats = monthly_stats.sort_values(by=\"Deaths\", ascending=False)\n",
    "\n",
    "# The number of deaths during the month with the highest number of deaths\n",
    "max_deaths_count = monthly_stats.loc[max_deaths_month, \"Deaths\"]\n",
    "\n",
    "\n",
    "# Print the results\n",
    "print(\"Which month, year, and country had the highest number of deaths?:\", max_deaths_month)\n",
    "print(\"Number of deaths during that month:\", max_deaths_count)\n",
    "print(monthly_stats)\n"
   ]
  },
  {
   "cell_type": "code",
   "execution_count": 13,
   "metadata": {},
   "outputs": [
    {
     "data": {
      "image/png": "[encoded data removed]",
      "text/plain": [
       "<Figure size 1743x800 with 1 Axes>"
      ]
     },
     "metadata": {},
     "output_type": "display_data"
    }
   ],
   "source": [
    "\"\"\"creating a bar plot using Seaborn to illustrate monthly death statistics categorized by country.\"\"\"\n",
    "\n",
    "\n",
    "# Create a bar plot using Seaborn to visualize monthly deaths with hue as Country\n",
    "sns.catplot(x=\"Month\", y=\"Deaths\", hue=\"Country\", data=monthly_stats, kind=\"bar\", palette=\"viridis\", height=8, aspect=2, errorbar=None, legend=\"brief\")\n",
    "\n",
    "# Customize plot aesthetics\n",
    "sns.set(style=\"whitegrid\") \n",
    "plt.title(\"Monthly Deaths by Country\", fontsize=18)\n",
    "plt.xlabel(\"Month\", fontsize=18)\n",
    "plt.ylabel(\"Number of Deaths\", fontsize=18)\n",
    "\n",
    "# Save the plot as an image\n",
    "plt.savefig(\"Visualiseringar/4B_Monthly_Death_by_Country.png\",bbox_inches=\"tight\")\n",
    "\n",
    "# Display the plot\n",
    "plt.show()\n"
   ]
  },
  {
   "cell_type": "markdown",
   "metadata": {},
   "source": [
    "**Conclusion**\n",
    "\n",
    "\n",
    "Based on the data, the month with the highest number of deaths is December 2020 in Germany, totaling 26,080 deaths. There are variations in the number of deaths and cases across different months and years, suggesting dynamic patterns over time. Additionally, other countries like France and Italy also experienced significant death tolls. The dataset also includes instances of zero values, possibly indicating either underreporting or genuinely no deaths during certain periods. Overall, the data highlights the importance of temporal analysis and cross-country comparisons to gain insights into the COVID-19 impact on mortality."
   ]
  }
 ],
 "metadata": {
  "kernelspec": {
   "display_name": "Dataprocessing-Nedya-Ibrahim-qH-aUhfM",
   "language": "python",
   "name": "python3"
  },
  "language_info": {
   "codemirror_mode": {
    "name": "ipython",
    "version": 3
   },
   "file_extension": ".py",
   "mimetype": "text/x-python",
   "name": "python",
   "nbconvert_exporter": "python",
   "pygments_lexer": "ipython3",
   "version": "3.11.5"
  }
 },
 "nbformat": 4,
 "nbformat_minor": 2
}
